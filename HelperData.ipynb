{
    "metadata": {
        "kernelspec": {
            "name": "python3",
            "display_name": "Python 3"
        },
        "language_info": {
            "name": "python",
            "version": "3.6.6",
            "mimetype": "text/x-python",
            "codemirror_mode": {
                "name": "ipython",
                "version": 3
            },
            "pygments_lexer": "ipython3",
            "nbconvert_exporter": "python",
            "file_extension": ".py"
        }
    },
    "nbformat_minor": 2,
    "nbformat": 4,
    "cells": [
        {
            "cell_type": "code",
            "source": [
                "import pandas as pd\n",
                "import numpy as np\n",
                "import time\n",
                "import random\n",
                "\n",
                "\n",
                "from nba_api.stats.static import players\n",
                "from nba_api.stats.library.parameters import SeasonAll, SeasonType, MeasureTypeBase, PlayerOrTeamAbbreviation\n",
                "\n",
                "\n",
                "from nba_api.stats.endpoints import leaguedashteamstats, leaguegamefinder, playerdashboardbyyearoveryear\n",
                ""
            ],
            "metadata": {
                "azdata_cell_guid": "85a2aace-a1a7-409b-868c-c07c7b3d5d1e"
            },
            "outputs": [],
            "execution_count": 34
        },
        {
            "cell_type": "code",
            "source": [
                "teams_dash = leaguedashteamstats.LeagueDashTeamStats(season=SeasonAll.current_season)\n",
                "\n",
                "print(teams_dash.get_data_frames())"
            ],
            "metadata": {
                "azdata_cell_guid": "dbf58d26-6baa-436f-8a86-a7c8794d057b"
            },
            "outputs": [
                {
                    "output_type": "stream",
                    "name": "stdout",
                    "text": "[Empty DataFrame\nColumns: [TEAM_ID, TEAM_NAME, GP, W, L, W_PCT, MIN, FGM, FGA, FG_PCT, FG3M, FG3A, FG3_PCT, FTM, FTA, FT_PCT, OREB, DREB, REB, AST, TOV, STL, BLK, BLKA, PF, PFD, PTS, PLUS_MINUS, GP_RANK, W_RANK, L_RANK, W_PCT_RANK, MIN_RANK, FGM_RANK, FGA_RANK, FG_PCT_RANK, FG3M_RANK, FG3A_RANK, FG3_PCT_RANK, FTM_RANK, FTA_RANK, FT_PCT_RANK, OREB_RANK, DREB_RANK, REB_RANK, AST_RANK, TOV_RANK, STL_RANK, BLK_RANK, BLKA_RANK, PF_RANK, PFD_RANK, PTS_RANK, PLUS_MINUS_RANK, CFID, CFPARAMS]\nIndex: []\n\n[0 rows x 56 columns]]\n"
                }
            ],
            "execution_count": 6
        },
        {
            "cell_type": "code",
            "source": [
                "leaguegame = leaguegamefinder \\\n",
                "    .LeagueGameFinder(player_or_team_abbreviation=PlayerOrTeamAbbreviation.player, \\\n",
                "    season_type_nullable=SeasonType.regular)\n",
                "\n",
                "leaguegame_data = leaguegame.get_data_frames()\n",
                "\n",
                "# leaguegame_data_pd = pd.DataFrame()[0]\n",
                "\n",
                "# print(leaguegame_data[0].columns.values.tolist())\n",
                "# print(leaguegame_data[0])\n",
                "print(leaguegame_data[0].SEASON_ID.unique())\n",
                "\n",
                "\n",
                "player_det = playerdashboardbyyearoveryear \\\n",
                "    .PlayerDashboardByYearOverYear(player_id='2544', \\\n",
                "        season=SeasonAll.current_season, \\\n",
                "        measure_type_detailed=MeasureTypeBase.base, \\\n",
                "        season_type_playoffs=SeasonType.regular)\n",
                "\n",
                "\n",
                "print(player_det.get_data_frames())"
            ],
            "metadata": {
                "azdata_cell_guid": "58b69823-780b-4fbb-9020-422bd92b2050"
            },
            "outputs": [
                {
                    "name": "stdout",
                    "text": "['22020' '22019']\n[Empty DataFrame\nColumns: [GROUP_SET, GROUP_VALUE, TEAM_ID, TEAM_ABBREVIATION, MAX_GAME_DATE, GP, W, L, W_PCT, MIN, FGM, FGA, FG_PCT, FG3M, FG3A, FG3_PCT, FTM, FTA, FT_PCT, OREB, DREB, REB, AST, TOV, STL, BLK, BLKA, PF, PFD, PTS, PLUS_MINUS, NBA_FANTASY_PTS, DD2, TD3, GP_RANK, W_RANK, L_RANK, W_PCT_RANK, MIN_RANK, FGM_RANK, FGA_RANK, FG_PCT_RANK, FG3M_RANK, FG3A_RANK, FG3_PCT_RANK, FTM_RANK, FTA_RANK, FT_PCT_RANK, OREB_RANK, DREB_RANK, REB_RANK, AST_RANK, TOV_RANK, STL_RANK, BLK_RANK, BLKA_RANK, PF_RANK, PFD_RANK, PTS_RANK, PLUS_MINUS_RANK, NBA_FANTASY_PTS_RANK, DD2_RANK, TD3_RANK, CFID, CFPARAMS]\nIndex: []\n\n[0 rows x 65 columns],    GROUP_SET GROUP_VALUE     TEAM_ID TEAM_ABBREVIATION        MAX_GAME_DATE  \\\n0    By Year     2019-20  1610612747               LAL  2020-08-13T00:00:00   \n1    By Year     2018-19  1610612747               LAL  2019-03-29T00:00:00   \n2    By Year     2017-18  1610612739               CLE  2018-04-11T00:00:00   \n3    By Year     2016-17  1610612739               CLE  2017-04-09T00:00:00   \n4    By Year     2015-16  1610612739               CLE  2016-04-11T00:00:00   \n5    By Year     2014-15  1610612739               CLE  2015-04-13T00:00:00   \n6    By Year     2013-14  1610612748               MIA  2014-04-12T00:00:00   \n7    By Year     2012-13  1610612748               MIA  2013-04-14T00:00:00   \n8    By Year     2011-12  1610612748               MIA  2012-04-22T00:00:00   \n9    By Year     2010-11  1610612748               MIA  2011-04-11T00:00:00   \n10   By Year     2009-10  1610612739               CLE  2010-04-06T00:00:00   \n11   By Year     2008-09  1610612739               CLE  2009-04-13T00:00:00   \n12   By Year     2007-08  1610612739               CLE  2008-04-14T00:00:00   \n13   By Year     2006-07  1610612739               CLE  2007-04-18T00:00:00   \n14   By Year     2005-06  1610612739               CLE  2006-04-16T00:00:00   \n15   By Year     2004-05  1610612739               CLE  2005-04-20T00:00:00   \n16   By Year     2003-04  1610612739               CLE  2004-04-14T00:00:00   \n\n    GP   W   L  W_PCT          MIN  ...  BLKA_RANK  PF_RANK  PFD_RANK  \\\n0   67  50  17  0.746  2316.266667  ...          9        4        14   \n1   55  28  27  0.509  1937.401667  ...          8        1        15   \n2   82  50  32  0.610  3025.588333  ...         14        9         9   \n3   74  51  23  0.689  2794.575000  ...         11        7         8   \n4   76  56  20  0.737  2708.578333  ...         15       11        11   \n5   69  50  19  0.725  2493.421667  ...          6        8        12   \n6   77  52  25  0.675  2901.870000  ...          4        6         7   \n7   76  61  15  0.803  2877.055000  ...          3        3         9   \n8   62  45  17  0.726  2326.215000  ...          1        2        13   \n9   79  57  22  0.722  3062.981667  ...          2       14         6   \n10  76  60  16  0.789  2965.730000  ...          5        5         4   \n11  81  66  15  0.815  3054.063333  ...          9       10         3   \n12  75  45  30  0.600  3026.798333  ...         12       15         2   \n13  78  47  31  0.603  3190.290000  ...          7       16         5   \n14  79  47  32  0.595  3360.616667  ...         13       17         1   \n15  80  41  39  0.513  3383.968333  ...         16       12        16   \n16  79  33  46  0.418  3126.865000  ...         17       13        16   \n\n    PTS_RANK  PLUS_MINUS_RANK  NBA_FANTASY_PTS_RANK  DD2_RANK  TD3_RANK  CFID  \\\n0         14                9                    13         2         2   264   \n1         17               15                    17         5         4   264   \n2          4               16                     1         1         1   264   \n3         11                7                     9         3         2   264   \n4         12                5                    12        10        12   264   \n5         13                6                    14        13        13   264   \n6          9               10                    11        16        14   264   \n7         10                2                     7         4         8   264   \n8         15                8                    16        12        16   264   \n9          8                4                     8         6         8   264   \n10         3                3                     3         6         8   264   \n11         2                1                     2         9         5   264   \n12         5               14                     6         6         5   264   \n13         7               11                    10        15        14   264   \n14         1               12                     4        14         7   264   \n15         6               13                     5        11         8   264   \n16        16               17                    15        16        16   264   \n\n    CFPARAMS  \n0    2019-20  \n1    2018-19  \n2    2017-18  \n3    2016-17  \n4    2015-16  \n5    2014-15  \n6    2013-14  \n7    2012-13  \n8    2011-12  \n9    2010-11  \n10   2009-10  \n11   2008-09  \n12   2007-08  \n13   2006-07  \n14   2005-06  \n15   2004-05  \n16   2003-04  \n\n[17 rows x 65 columns]]\n",
                    "output_type": "stream"
                }
            ],
            "execution_count": 36
        }
    ]
}