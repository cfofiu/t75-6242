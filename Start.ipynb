{
    "metadata": {
        "kernelspec": {
            "name": "python3",
            "display_name": "Python 3"
        },
        "language_info": {
            "name": "python",
            "version": "3.6.6",
            "mimetype": "text/x-python",
            "codemirror_mode": {
                "name": "ipython",
                "version": 3
            },
            "pygments_lexer": "ipython3",
            "nbconvert_exporter": "python",
            "file_extension": ".py"
        }
    },
    "nbformat_minor": 2,
    "nbformat": 4,
    "cells": [
        {
            "cell_type": "code",
            "source": [
                "import pandas as pd\n",
                "import numpy as np\n",
                "import time\n",
                "import random\n",
                "from datetime import datetime\n",
                "\n",
                "\n",
                "from nba_api.stats.static import players, teams\n",
                "from nba_api.stats.library.parameters import SeasonAll, SeasonType, MeasureTypeBase\n",
                "\n",
                "\n",
                "from nba_api.stats.endpoints import playercareerstats, commonallplayers, playerdashboardbyyearoveryear\n",
                "\n",
                ""
            ],
            "metadata": {
                "azdata_cell_guid": "8d78e0e1-1abd-4092-940b-cfec29baf37b"
            },
            "outputs": [],
            "execution_count": 26
        },
        {
            "cell_type": "markdown",
            "source": [
                "## Notes\n",
                "\n",
                "```\n",
                "# NBA League\n",
                "NBA → LeagueId = 00\n",
                "\n",
                "# Current season\n",
                "SeasonAll.current_season\n",
                "```"
            ],
            "metadata": {
                "azdata_cell_guid": "897d40df-9cf9-454c-bc1c-8b306582ebf2"
            }
        },
        {
            "cell_type": "code",
            "source": [
                "\n",
                "# ~~~ DEMO ~~~\n",
                "# Lebron\n",
                "career = playercareerstats.PlayerCareerStats(player_id='2544')\n",
                "career.get_data_frames()[0]\n",
                "\n",
                "# print(career.get_data_frames())\n",
                "# print(career.get_response())\n",
                "\n",
                "nba_teams = teams.get_teams()\n",
                "\n",
                "# Select the dictionary for the Celtics, which contains their team ID\n",
                "celtics = [team for team in nba_teams if team['abbreviation'] == 'BOS'][0]\n",
                "celtics_id = celtics['id']"
            ],
            "metadata": {
                "azdata_cell_guid": "addef27e-5287-42c5-9e83-efbdc1141e63",
                "tags": []
            },
            "outputs": [],
            "execution_count": 14
        },
        {
            "cell_type": "code",
            "source": [
                "# All 2020 players\n",
                "# print(SeasonAll.current_season)  # current season\n",
                "\n",
                "all_players = commonallplayers.CommonAllPlayers(is_only_current_season=1, league_id='00', season=SeasonAll.current_season)\n",
                "players = all_players.get_data_frames()[0]\n",
                "\n",
                "# ~~~ DEMO ~~~ \n",
                "# Atlanta Hawks Player List\n",
                "hawks = players[players.TEAM_CITY == 'Atlanta']\n",
                "# print(hawks.count())\n",
                "# print(hawks)\n",
                "\n",
                "# All players Data Frame\n",
                "all_players = players[players.GAMES_PLAYED_FLAG == 'Y']\n",
                "# print(all_players.head())"
            ],
            "metadata": {
                "azdata_cell_guid": "e8016344-f195-4df8-9ee4-e785583aa136",
                "tags": []
            },
            "outputs": [],
            "execution_count": 15
        },
        {
            "cell_type": "markdown",
            "source": [
                " The cell below takes a while to run. It runs for every player found (~500) times."
            ],
            "metadata": {
                "azdata_cell_guid": "c1500f56-60ea-49b4-8b69-03cff68a1551"
            }
        },
        {
            "cell_type": "code",
            "source": [
                "player_stats_list = []\n",
                "seasons = ['2015-16', '2016-17', '2017-18', '2018-19', '2019-20']\n",
                "\n",
                "headers = [\n",
                "    'PERSON_ID', 'DISPLAY_FIRST_LAST', 'TEAM_ID', 'TEAM_NAME', 'GROUP_SET', 'GROUP_VALUE', 'TEAM_ID', 'TEAM_ABBREVIATION', 'MAX_GAME_DATE', 'GP', 'W', 'L', 'W_PCT', 'MIN', 'FGM', 'FGA', 'FG_PCT', 'FG3M', 'FG3A', 'FG3_PCT', 'FTM', 'FTA', 'FT_PCT', 'OREB', 'DREB', 'REB', 'AST', 'TOV', 'STL', 'BLK', 'BLKA', 'PF', 'PFD', 'PTS', 'PLUS_MINUS', 'NBA_FANTASY_PTS', 'DD2', 'TD3', 'GP_RANK', 'W_RANK', 'L_RANK', 'W_PCT_RANK', 'MIN_RANK', 'FGM_RANK', 'FGA_RANK', 'FG_PCT_RANK', 'FG3M_RANK', 'FG3A_RANK', 'FG3_PCT_RANK', 'FTM_RANK', 'FTA_RANK', 'FT_PCT_RANK', 'OREB_RANK', 'DREB_RANK', 'REB_RANK', 'AST_RANK', 'TOV_RANK', 'STL_RANK', 'BLK_RANK', 'BLKA_RANK', 'PF_RANK', 'PFD_RANK', 'PTS_RANK', 'PLUS_MINUS_RANK', 'NBA_FANTASY_PTS_RANK', 'DD2_RANK', 'TD3_RANK', 'CFID', 'CFPARAMS']\n",
                "\n",
                "# print(player_stats_df.columns, \"\\n\")\n",
                "now = datetime.now()\n",
                "current_time = now.strftime(\"%H:%M:%S\")\n",
                "print(\"Execution started at\", current_time)\n",
                "\n",
                "# Loop through seasons\n",
                "for season in seasons:\n",
                "\n",
                "    # Loop though all the players (for development: all_players[:5])\n",
                "    for index, row in all_players.iterrows():\n",
                "        # print(row['PERSON_ID'], row['DISPLAY_FIRST_LAST'])\n",
                "\n",
                "        #Add some sleep time between pulls\n",
                "        if index % 100 == 0:\n",
                "            time.sleep(random.uniform(0, 10))\n",
                "        elif index % 50 == 0:\n",
                "            time.sleep(random.uniform(0, 3))\n",
                "\n",
                "        # Get the player stats by making an API call\n",
                "        # https://github.com/swar/nba_api/blob/master/docs/nba_api/stats/endpoints/playerdashboardbyyearoveryear.md\n",
                "        player_det = playerdashboardbyyearoveryear \\\n",
                "            .PlayerDashboardByYearOverYear(player_id=row['PERSON_ID'], \\\n",
                "                season=season, \\\n",
                "                measure_type_detailed=MeasureTypeBase.base, \\\n",
                "                season_type_playoffs=SeasonType.regular)\n",
                "\n",
                "        # Get only the needed data; (OverallPlayerDashboard)\n",
                "        player_stats = player_det.get_data_frames()[1]\n",
                "        one_player_stats_list = player_stats[player_stats.GROUP_VALUE == season].values.tolist()\n",
                "\n",
                "        # Some data comes in as blank; need to filter it out\n",
                "        if len(one_player_stats_list) > 0:\n",
                "            # Select only the \"2019-20\" season\n",
                "            merged_one_player_stats_list = player_stats[player_stats.GROUP_VALUE == season].values.tolist()[0]\n",
                "\n",
                "            # Append the Person ID, Name, Team to the returned stats\n",
                "            merged_one_player_stats_list[:0] = [row['PERSON_ID'], row['DISPLAY_FIRST_LAST'], row['TEAM_ID'], row['TEAM_NAME']]\n",
                "            # Append to list\n",
                "            player_stats_list.append(merged_one_player_stats_list)\n",
                "\n",
                "\n",
                "# PLAYERS DATAFRAME\n",
                "# Basically the \"Traditional Splits\" from the page below but for all the players.\n",
                "# https://www.nba.com/stats/player/203500/?sort=DREB&dir=1&Season=2019-20&SeasonType=Regular%20Season&PerMode=Totals\n",
                "players_stats_df = pd.DataFrame(player_stats_list, columns = headers)\n",
                "\n",
                "print(\"\\n>>> Player Stats DataFrame\\n\")\n",
                "print(players_stats_df)\n",
                "\n",
                "# Eport data to CSV\n",
                "players_stats_df.to_csv('data/players_stats_multi_season.csv')\n",
                "\n",
                "now = datetime.now()\n",
                "current_time = now.strftime(\"%H:%M:%S\")\n",
                "print(\"Execution completed at\", current_time)\n",
                "\n",
                ""
            ],
            "metadata": {
                "azdata_cell_guid": "15cfb9ee-72e8-412f-8315-a37e5685d09c",
                "tags": []
            },
            "outputs": [
                {
                    "name": "stdout",
                    "text": "Execution started at 17:41:42\n",
                    "output_type": "stream"
                },
                {
                    "name": "stdout",
                    "text": "\n>>> Player Stats DataFrame\n\n      PERSON_ID DISPLAY_FIRST_LAST     TEAM_ID  TEAM_NAME GROUP_SET  \\\n0        203500       Steven Adams  1610612760    Thunder   By Year   \n1        200746  LaMarcus Aldridge  1610612759      Spurs   By Year   \n2        202329    Al-Farouq Aminu  1610612753      Magic   By Year   \n3       1626147    Justin Anderson  1610612751       Nets   By Year   \n4        203937      Kyle Anderson  1610612763  Grizzlies   By Year   \n...         ...                ...         ...        ...       ...   \n1686    1629027         Trae Young  1610612737      Hawks   By Year   \n1687     203469        Cody Zeller  1610612766    Hornets   By Year   \n1688     203092       Tyler Zeller  1610612759      Spurs   By Year   \n1689    1627790         Ante Zizic  1610612739  Cavaliers   By Year   \n1690    1627826        Ivica Zubac  1610612746   Clippers   By Year   \n\n     GROUP_VALUE     TEAM_ID TEAM_ABBREVIATION        MAX_GAME_DATE  GP  ...  \\\n0        2015-16  1610612760               OKC  2016-04-12T00:00:00  80  ...   \n1        2015-16  1610612759               SAS  2016-04-12T00:00:00  74  ...   \n2        2015-16  1610612757               POR  2016-04-13T00:00:00  82  ...   \n3        2015-16  1610612742               DAL  2016-04-13T00:00:00  55  ...   \n4        2015-16  1610612759               SAS  2016-04-13T00:00:00  78  ...   \n...          ...         ...               ...                  ...  ..  ...   \n1686     2019-20  1610612737               ATL  2020-03-11T00:00:00  60  ...   \n1687     2019-20  1610612766               CHA  2020-03-11T00:00:00  58  ...   \n1688     2019-20  1610612759               SAS  2020-08-03T00:00:00   2  ...   \n1689     2019-20  1610612739               CLE  2020-03-07T00:00:00  22  ...   \n1690     2019-20  1610612746               LAC  2020-08-14T00:00:00  72  ...   \n\n      BLKA_RANK  PF_RANK  PFD_RANK  PTS_RANK  PLUS_MINUS_RANK  \\\n0             3        7         5         5                1   \n1             6        4        10        10                1   \n2             6       10         2         1                4   \n3             4        2         2         3                1   \n4             4        3         2         3                1   \n...         ...      ...       ...       ...              ...   \n1686          1        1         1         1                1   \n1687          5        2         2         1                7   \n1688          1        1        10         9                4   \n1689          2        1         3         3                1   \n1690          5        5         1         1                1   \n\n      NBA_FANTASY_PTS_RANK  DD2_RANK  TD3_RANK  CFID  CFPARAMS  \n0                        5         6         1   264   2015-16  \n1                       10         7         1   264   2015-16  \n2                        1         4         1   264   2015-16  \n3                        2         1         1   264   2015-16  \n4                        4         3         2   264   2015-16  \n...                    ...       ...       ...   ...       ...  \n1686                     1         2         1   264   2019-20  \n1687                     3         1         1   264   2019-20  \n1688                    10         6         1   264   2019-20  \n1689                     3         2         1   264   2019-20  \n1690                     1         1         1   264   2019-20  \n\n[1691 rows x 69 columns]\nExecution completed at 18:36:16\n",
                    "output_type": "stream"
                }
            ],
            "execution_count": 27
        },
        {
            "cell_type": "code",
            "source": [
                ""
            ],
            "metadata": {
                "azdata_cell_guid": "91e5b0be-ef22-4ff6-aa98-0ed8026ab31c"
            },
            "outputs": [],
            "execution_count": null
        }
    ]
}