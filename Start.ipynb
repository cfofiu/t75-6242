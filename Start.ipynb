{
    "metadata": {
        "kernelspec": {
            "name": "python3",
            "display_name": "Python 3"
        },
        "language_info": {
            "name": "python",
            "version": "3.6.6",
            "mimetype": "text/x-python",
            "codemirror_mode": {
                "name": "ipython",
                "version": 3
            },
            "pygments_lexer": "ipython3",
            "nbconvert_exporter": "python",
            "file_extension": ".py"
        }
    },
    "nbformat_minor": 2,
    "nbformat": 4,
    "cells": [
        {
            "cell_type": "code",
            "source": [
                "import pandas as pd\n",
                "import numpy as np\n",
                "import time\n",
                "import random\n",
                "from datetime import datetime\n",
                "\n",
                "\n",
                "from nba_api.stats.static import players, teams\n",
                "from nba_api.stats.library.parameters import SeasonAll, SeasonType, MeasureTypeBase\n",
                "\n",
                "\n",
                "from nba_api.stats.endpoints import playercareerstats, commonallplayers, playerdashboardbyyearoveryear\n",
                "\n",
                ""
            ],
            "metadata": {
                "azdata_cell_guid": "8d78e0e1-1abd-4092-940b-cfec29baf37b"
            },
            "outputs": [],
            "execution_count": 2
        },
        {
            "cell_type": "markdown",
            "source": [
                "## Notes\n",
                "\n",
                "```\n",
                "# NBA League\n",
                "NBA → LeagueId = 00\n",
                "\n",
                "# Current season\n",
                "SeasonAll.current_season\n",
                "```"
            ],
            "metadata": {
                "azdata_cell_guid": "897d40df-9cf9-454c-bc1c-8b306582ebf2"
            }
        },
        {
            "cell_type": "code",
            "source": [
                "\n",
                "# ~~~ DEMO ~~~\n",
                "# Lebron\n",
                "career = playercareerstats.PlayerCareerStats(player_id='2544')\n",
                "career.get_data_frames()[0]\n",
                "\n",
                "# print(career.get_data_frames())\n",
                "# print(career.get_response())\n",
                "\n",
                "nba_teams = teams.get_teams()\n",
                "\n",
                "# Select the dictionary for the Celtics, which contains their team ID\n",
                "celtics = [team for team in nba_teams if team['abbreviation'] == 'BOS'][0]\n",
                "celtics_id = celtics['id']"
            ],
            "metadata": {
                "azdata_cell_guid": "addef27e-5287-42c5-9e83-efbdc1141e63",
                "tags": []
            },
            "outputs": [],
            "execution_count": 4
        },
        {
            "cell_type": "code",
            "source": [
                "# All 2020 players\n",
                "# print(SeasonAll.current_season)  # current season\n",
                "\n",
                "all_players = commonallplayers.CommonAllPlayers(is_only_current_season=1, league_id='00', season=SeasonAll.current_season)\n",
                "players = all_players.get_data_frames()[0]\n",
                "\n",
                "# ~~~ DEMO ~~~ \n",
                "# Atlanta Hawks Player List\n",
                "hawks = players[players.TEAM_CITY == 'Atlanta']\n",
                "# print(hawks.count())\n",
                "# print(hawks)\n",
                "\n",
                "# All players Data Frame\n",
                "all_players = players[players.GAMES_PLAYED_FLAG == 'Y']\n",
                "# print(all_players.head())"
            ],
            "metadata": {
                "azdata_cell_guid": "e8016344-f195-4df8-9ee4-e785583aa136",
                "tags": []
            },
            "outputs": [],
            "execution_count": 5
        },
        {
            "cell_type": "markdown",
            "source": [
                " The cell below takes a while to run. It runs for every player found (~500) times."
            ],
            "metadata": {
                "azdata_cell_guid": "c1500f56-60ea-49b4-8b69-03cff68a1551"
            }
        },
        {
            "cell_type": "code",
            "source": [
                "player_stats_list = []\n",
                "seasons = ['2015-16', '2016-17', '2017-18', '2018-19', '2019-20']\n",
                "\n",
                "headers = [\n",
                "    'PERSON_ID', 'DISPLAY_FIRST_LAST', 'TEAM_ID', 'TEAM_NAME', 'GROUP_SET', 'GROUP_VALUE', 'TEAM_ID', 'TEAM_ABBREVIATION', 'MAX_GAME_DATE', 'GP', 'W', 'L', 'W_PCT', 'MIN', 'FGM', 'FGA', 'FG_PCT', 'FG3M', 'FG3A', 'FG3_PCT', 'FTM', 'FTA', 'FT_PCT', 'OREB', 'DREB', 'REB', 'AST', 'TOV', 'STL', 'BLK', 'BLKA', 'PF', 'PFD', 'PTS', 'PLUS_MINUS', 'NBA_FANTASY_PTS', 'DD2', 'TD3', 'GP_RANK', 'W_RANK', 'L_RANK', 'W_PCT_RANK', 'MIN_RANK', 'FGM_RANK', 'FGA_RANK', 'FG_PCT_RANK', 'FG3M_RANK', 'FG3A_RANK', 'FG3_PCT_RANK', 'FTM_RANK', 'FTA_RANK', 'FT_PCT_RANK', 'OREB_RANK', 'DREB_RANK', 'REB_RANK', 'AST_RANK', 'TOV_RANK', 'STL_RANK', 'BLK_RANK', 'BLKA_RANK', 'PF_RANK', 'PFD_RANK', 'PTS_RANK', 'PLUS_MINUS_RANK', 'NBA_FANTASY_PTS_RANK', 'DD2_RANK', 'TD3_RANK', 'CFID', 'CFPARAMS']\n",
                "\n",
                "# print(player_stats_df.columns, \"\\n\")\n",
                "now = datetime.now()\n",
                "current_time = now.strftime(\"%H:%M:%S\")\n",
                "print(\"Execution started at\", current_time)\n",
                "\n",
                "# Loop through seasons\n",
                "for season in seasons:\n",
                "    print(\"Season\", season)\n",
                "\n",
                "    # Loop though all the players (for development: all_players[:5])\n",
                "    for index, row in all_players.iterrows():\n",
                "        # print(row['PERSON_ID'], row['DISPLAY_FIRST_LAST'])\n",
                "\n",
                "        #Add some sleep time between pulls\n",
                "        if index % 100 == 0:\n",
                "            time.sleep(random.uniform(0, 10))\n",
                "        elif index % 50 == 0:\n",
                "            time.sleep(random.uniform(10, 15))\n",
                "\n",
                "        # Get the player stats by making an API call\n",
                "        # https://github.com/swar/nba_api/blob/master/docs/nba_api/stats/endpoints/playerdashboardbyyearoveryear.md\n",
                "        player_det = playerdashboardbyyearoveryear \\\n",
                "            .PlayerDashboardByYearOverYear(player_id=row['PERSON_ID'], \\\n",
                "                season=season, \\\n",
                "                measure_type_detailed=MeasureTypeBase.base, \\\n",
                "                season_type_playoffs=SeasonType.regular)\n",
                "\n",
                "        # Get only the needed data; (OverallPlayerDashboard)\n",
                "        player_stats = player_det.get_data_frames()[1]\n",
                "        one_player_stats_list = player_stats[player_stats.GROUP_VALUE == season].values.tolist()\n",
                "\n",
                "        # Some data comes in as blank; need to filter it out\n",
                "        if len(one_player_stats_list) > 0:\n",
                "            # Select only the \"2019-20\" season\n",
                "            merged_one_player_stats_list = player_stats[player_stats.GROUP_VALUE == season].values.tolist()[0]\n",
                "\n",
                "            # Append the Person ID, Name, Team to the returned stats\n",
                "            merged_one_player_stats_list[:0] = [row['PERSON_ID'], row['DISPLAY_FIRST_LAST'], row['TEAM_ID'], row['TEAM_NAME']]\n",
                "            # Append to list\n",
                "            player_stats_list.append(merged_one_player_stats_list)\n",
                "\n",
                "\n",
                "# PLAYERS DATAFRAME\n",
                "# Basically the \"Traditional Splits\" from the page below but for all the players.\n",
                "# https://www.nba.com/stats/player/203500/?sort=DREB&dir=1&Season=2019-20&SeasonType=Regular%20Season&PerMode=Totals\n",
                "players_stats_df = pd.DataFrame(player_stats_list, columns = headers)\n",
                "\n",
                "print(\"\\n>>> Player Stats DataFrame\\n\")\n",
                "print(players_stats_df)\n",
                "\n",
                "# Eport data to CSV\n",
                "players_stats_df.to_csv('data/players_stats_multi_season.csv')\n",
                "\n",
                "now = datetime.now()\n",
                "current_time = now.strftime(\"%H:%M:%S\")\n",
                "print(\"Execution completed at\", current_time)\n",
                "\n",
                ""
            ],
            "metadata": {
                "azdata_cell_guid": "15cfb9ee-72e8-412f-8315-a37e5685d09c",
                "tags": []
            },
            "outputs": [
                {
                    "name": "stdout",
                    "text": "Execution started at 21:14:59\nSeason 2015-16\n",
                    "output_type": "stream"
                },
                {
                    "traceback": [
                        "\u001b[0;31m---------------------------------------------------------------------------\u001b[0m",
                        "\u001b[0;31mtimeout\u001b[0m                                   Traceback (most recent call last)",
                        "\u001b[0;32m~/azuredatastudio-python/0.0.1/lib/python3.6/site-packages/urllib3/connectionpool.py\u001b[0m in \u001b[0;36m_make_request\u001b[0;34m(self, conn, method, url, timeout, chunked, **httplib_request_kw)\u001b[0m\n\u001b[1;32m    425\u001b[0m                     \u001b[0;31m# Otherwise it looks like a bug in the code.\u001b[0m\u001b[0;34m\u001b[0m\u001b[0;34m\u001b[0m\u001b[0m\n\u001b[0;32m--> 426\u001b[0;31m                     \u001b[0msix\u001b[0m\u001b[0;34m.\u001b[0m\u001b[0mraise_from\u001b[0m\u001b[0;34m(\u001b[0m\u001b[0me\u001b[0m\u001b[0;34m,\u001b[0m \u001b[0;32mNone\u001b[0m\u001b[0;34m)\u001b[0m\u001b[0;34m\u001b[0m\u001b[0m\n\u001b[0m\u001b[1;32m    427\u001b[0m         \u001b[0;32mexcept\u001b[0m \u001b[0;34m(\u001b[0m\u001b[0mSocketTimeout\u001b[0m\u001b[0;34m,\u001b[0m \u001b[0mBaseSSLError\u001b[0m\u001b[0;34m,\u001b[0m \u001b[0mSocketError\u001b[0m\u001b[0;34m)\u001b[0m \u001b[0;32mas\u001b[0m \u001b[0me\u001b[0m\u001b[0;34m:\u001b[0m\u001b[0;34m\u001b[0m\u001b[0m\n",
                        "\u001b[0;32m~/azuredatastudio-python/0.0.1/lib/python3.6/site-packages/urllib3/packages/six.py\u001b[0m in \u001b[0;36mraise_from\u001b[0;34m(value, from_value)\u001b[0m\n",
                        "\u001b[0;32m~/azuredatastudio-python/0.0.1/lib/python3.6/site-packages/urllib3/connectionpool.py\u001b[0m in \u001b[0;36m_make_request\u001b[0;34m(self, conn, method, url, timeout, chunked, **httplib_request_kw)\u001b[0m\n\u001b[1;32m    420\u001b[0m                 \u001b[0;32mtry\u001b[0m\u001b[0;34m:\u001b[0m\u001b[0;34m\u001b[0m\u001b[0m\n\u001b[0;32m--> 421\u001b[0;31m                     \u001b[0mhttplib_response\u001b[0m \u001b[0;34m=\u001b[0m \u001b[0mconn\u001b[0m\u001b[0;34m.\u001b[0m\u001b[0mgetresponse\u001b[0m\u001b[0;34m(\u001b[0m\u001b[0;34m)\u001b[0m\u001b[0;34m\u001b[0m\u001b[0m\n\u001b[0m\u001b[1;32m    422\u001b[0m                 \u001b[0;32mexcept\u001b[0m \u001b[0mBaseException\u001b[0m \u001b[0;32mas\u001b[0m \u001b[0me\u001b[0m\u001b[0;34m:\u001b[0m\u001b[0;34m\u001b[0m\u001b[0m\n",
                        "\u001b[0;32m~/azuredatastudio-python/0.0.1/lib/python3.6/http/client.py\u001b[0m in \u001b[0;36mgetresponse\u001b[0;34m(self)\u001b[0m\n\u001b[1;32m   1330\u001b[0m             \u001b[0;32mtry\u001b[0m\u001b[0;34m:\u001b[0m\u001b[0;34m\u001b[0m\u001b[0m\n\u001b[0;32m-> 1331\u001b[0;31m                 \u001b[0mresponse\u001b[0m\u001b[0;34m.\u001b[0m\u001b[0mbegin\u001b[0m\u001b[0;34m(\u001b[0m\u001b[0;34m)\u001b[0m\u001b[0;34m\u001b[0m\u001b[0m\n\u001b[0m\u001b[1;32m   1332\u001b[0m             \u001b[0;32mexcept\u001b[0m \u001b[0mConnectionError\u001b[0m\u001b[0;34m:\u001b[0m\u001b[0;34m\u001b[0m\u001b[0m\n",
                        "\u001b[0;32m~/azuredatastudio-python/0.0.1/lib/python3.6/http/client.py\u001b[0m in \u001b[0;36mbegin\u001b[0;34m(self)\u001b[0m\n\u001b[1;32m    296\u001b[0m         \u001b[0;32mwhile\u001b[0m \u001b[0;32mTrue\u001b[0m\u001b[0;34m:\u001b[0m\u001b[0;34m\u001b[0m\u001b[0m\n\u001b[0;32m--> 297\u001b[0;31m             \u001b[0mversion\u001b[0m\u001b[0;34m,\u001b[0m \u001b[0mstatus\u001b[0m\u001b[0;34m,\u001b[0m \u001b[0mreason\u001b[0m \u001b[0;34m=\u001b[0m \u001b[0mself\u001b[0m\u001b[0;34m.\u001b[0m\u001b[0m_read_status\u001b[0m\u001b[0;34m(\u001b[0m\u001b[0;34m)\u001b[0m\u001b[0;34m\u001b[0m\u001b[0m\n\u001b[0m\u001b[1;32m    298\u001b[0m             \u001b[0;32mif\u001b[0m \u001b[0mstatus\u001b[0m \u001b[0;34m!=\u001b[0m \u001b[0mCONTINUE\u001b[0m\u001b[0;34m:\u001b[0m\u001b[0;34m\u001b[0m\u001b[0m\n",
                        "\u001b[0;32m~/azuredatastudio-python/0.0.1/lib/python3.6/http/client.py\u001b[0m in \u001b[0;36m_read_status\u001b[0;34m(self)\u001b[0m\n\u001b[1;32m    257\u001b[0m     \u001b[0;32mdef\u001b[0m \u001b[0m_read_status\u001b[0m\u001b[0;34m(\u001b[0m\u001b[0mself\u001b[0m\u001b[0;34m)\u001b[0m\u001b[0;34m:\u001b[0m\u001b[0;34m\u001b[0m\u001b[0m\n\u001b[0;32m--> 258\u001b[0;31m         \u001b[0mline\u001b[0m \u001b[0;34m=\u001b[0m \u001b[0mstr\u001b[0m\u001b[0;34m(\u001b[0m\u001b[0mself\u001b[0m\u001b[0;34m.\u001b[0m\u001b[0mfp\u001b[0m\u001b[0;34m.\u001b[0m\u001b[0mreadline\u001b[0m\u001b[0;34m(\u001b[0m\u001b[0m_MAXLINE\u001b[0m \u001b[0;34m+\u001b[0m \u001b[0;36m1\u001b[0m\u001b[0;34m)\u001b[0m\u001b[0;34m,\u001b[0m \u001b[0;34m\"iso-8859-1\"\u001b[0m\u001b[0;34m)\u001b[0m\u001b[0;34m\u001b[0m\u001b[0m\n\u001b[0m\u001b[1;32m    259\u001b[0m         \u001b[0;32mif\u001b[0m \u001b[0mlen\u001b[0m\u001b[0;34m(\u001b[0m\u001b[0mline\u001b[0m\u001b[0;34m)\u001b[0m \u001b[0;34m>\u001b[0m \u001b[0m_MAXLINE\u001b[0m\u001b[0;34m:\u001b[0m\u001b[0;34m\u001b[0m\u001b[0m\n",
                        "\u001b[0;32m~/azuredatastudio-python/0.0.1/lib/python3.6/socket.py\u001b[0m in \u001b[0;36mreadinto\u001b[0;34m(self, b)\u001b[0m\n\u001b[1;32m    585\u001b[0m             \u001b[0;32mtry\u001b[0m\u001b[0;34m:\u001b[0m\u001b[0;34m\u001b[0m\u001b[0m\n\u001b[0;32m--> 586\u001b[0;31m                 \u001b[0;32mreturn\u001b[0m \u001b[0mself\u001b[0m\u001b[0;34m.\u001b[0m\u001b[0m_sock\u001b[0m\u001b[0;34m.\u001b[0m\u001b[0mrecv_into\u001b[0m\u001b[0;34m(\u001b[0m\u001b[0mb\u001b[0m\u001b[0;34m)\u001b[0m\u001b[0;34m\u001b[0m\u001b[0m\n\u001b[0m\u001b[1;32m    587\u001b[0m             \u001b[0;32mexcept\u001b[0m \u001b[0mtimeout\u001b[0m\u001b[0;34m:\u001b[0m\u001b[0;34m\u001b[0m\u001b[0m\n",
                        "\u001b[0;32m~/azuredatastudio-python/0.0.1/lib/python3.6/ssl.py\u001b[0m in \u001b[0;36mrecv_into\u001b[0;34m(self, buffer, nbytes, flags)\u001b[0m\n\u001b[1;32m   1008\u001b[0m                   self.__class__)\n\u001b[0;32m-> 1009\u001b[0;31m             \u001b[0;32mreturn\u001b[0m \u001b[0mself\u001b[0m\u001b[0;34m.\u001b[0m\u001b[0mread\u001b[0m\u001b[0;34m(\u001b[0m\u001b[0mnbytes\u001b[0m\u001b[0;34m,\u001b[0m \u001b[0mbuffer\u001b[0m\u001b[0;34m)\u001b[0m\u001b[0;34m\u001b[0m\u001b[0m\n\u001b[0m\u001b[1;32m   1010\u001b[0m         \u001b[0;32melse\u001b[0m\u001b[0;34m:\u001b[0m\u001b[0;34m\u001b[0m\u001b[0m\n",
                        "\u001b[0;32m~/azuredatastudio-python/0.0.1/lib/python3.6/ssl.py\u001b[0m in \u001b[0;36mread\u001b[0;34m(self, len, buffer)\u001b[0m\n\u001b[1;32m    870\u001b[0m         \u001b[0;32mtry\u001b[0m\u001b[0;34m:\u001b[0m\u001b[0;34m\u001b[0m\u001b[0m\n\u001b[0;32m--> 871\u001b[0;31m             \u001b[0;32mreturn\u001b[0m \u001b[0mself\u001b[0m\u001b[0;34m.\u001b[0m\u001b[0m_sslobj\u001b[0m\u001b[0;34m.\u001b[0m\u001b[0mread\u001b[0m\u001b[0;34m(\u001b[0m\u001b[0mlen\u001b[0m\u001b[0;34m,\u001b[0m \u001b[0mbuffer\u001b[0m\u001b[0;34m)\u001b[0m\u001b[0;34m\u001b[0m\u001b[0m\n\u001b[0m\u001b[1;32m    872\u001b[0m         \u001b[0;32mexcept\u001b[0m \u001b[0mSSLError\u001b[0m \u001b[0;32mas\u001b[0m \u001b[0mx\u001b[0m\u001b[0;34m:\u001b[0m\u001b[0;34m\u001b[0m\u001b[0m\n",
                        "\u001b[0;32m~/azuredatastudio-python/0.0.1/lib/python3.6/ssl.py\u001b[0m in \u001b[0;36mread\u001b[0;34m(self, len, buffer)\u001b[0m\n\u001b[1;32m    630\u001b[0m         \u001b[0;32mif\u001b[0m \u001b[0mbuffer\u001b[0m \u001b[0;32mis\u001b[0m \u001b[0;32mnot\u001b[0m \u001b[0;32mNone\u001b[0m\u001b[0;34m:\u001b[0m\u001b[0;34m\u001b[0m\u001b[0m\n\u001b[0;32m--> 631\u001b[0;31m             \u001b[0mv\u001b[0m \u001b[0;34m=\u001b[0m \u001b[0mself\u001b[0m\u001b[0;34m.\u001b[0m\u001b[0m_sslobj\u001b[0m\u001b[0;34m.\u001b[0m\u001b[0mread\u001b[0m\u001b[0;34m(\u001b[0m\u001b[0mlen\u001b[0m\u001b[0;34m,\u001b[0m \u001b[0mbuffer\u001b[0m\u001b[0;34m)\u001b[0m\u001b[0;34m\u001b[0m\u001b[0m\n\u001b[0m\u001b[1;32m    632\u001b[0m         \u001b[0;32melse\u001b[0m\u001b[0;34m:\u001b[0m\u001b[0;34m\u001b[0m\u001b[0m\n",
                        "\u001b[0;31mtimeout\u001b[0m: The read operation timed out",
                        "\nDuring handling of the above exception, another exception occurred:\n",
                        "\u001b[0;31mReadTimeoutError\u001b[0m                          Traceback (most recent call last)",
                        "\u001b[0;32m~/azuredatastudio-python/0.0.1/lib/python3.6/site-packages/requests/adapters.py\u001b[0m in \u001b[0;36msend\u001b[0;34m(self, request, stream, timeout, verify, cert, proxies)\u001b[0m\n\u001b[1;32m    448\u001b[0m                     \u001b[0mretries\u001b[0m\u001b[0;34m=\u001b[0m\u001b[0mself\u001b[0m\u001b[0;34m.\u001b[0m\u001b[0mmax_retries\u001b[0m\u001b[0;34m,\u001b[0m\u001b[0;34m\u001b[0m\u001b[0m\n\u001b[0;32m--> 449\u001b[0;31m                     \u001b[0mtimeout\u001b[0m\u001b[0;34m=\u001b[0m\u001b[0mtimeout\u001b[0m\u001b[0;34m\u001b[0m\u001b[0m\n\u001b[0m\u001b[1;32m    450\u001b[0m                 )\n",
                        "\u001b[0;32m~/azuredatastudio-python/0.0.1/lib/python3.6/site-packages/urllib3/connectionpool.py\u001b[0m in \u001b[0;36murlopen\u001b[0;34m(self, method, url, body, headers, retries, redirect, assert_same_host, timeout, pool_timeout, release_conn, chunked, body_pos, **response_kw)\u001b[0m\n\u001b[1;32m    724\u001b[0m             retries = retries.increment(\n\u001b[0;32m--> 725\u001b[0;31m                 \u001b[0mmethod\u001b[0m\u001b[0;34m,\u001b[0m \u001b[0murl\u001b[0m\u001b[0;34m,\u001b[0m \u001b[0merror\u001b[0m\u001b[0;34m=\u001b[0m\u001b[0me\u001b[0m\u001b[0;34m,\u001b[0m \u001b[0m_pool\u001b[0m\u001b[0;34m=\u001b[0m\u001b[0mself\u001b[0m\u001b[0;34m,\u001b[0m \u001b[0m_stacktrace\u001b[0m\u001b[0;34m=\u001b[0m\u001b[0msys\u001b[0m\u001b[0;34m.\u001b[0m\u001b[0mexc_info\u001b[0m\u001b[0;34m(\u001b[0m\u001b[0;34m)\u001b[0m\u001b[0;34m[\u001b[0m\u001b[0;36m2\u001b[0m\u001b[0;34m]\u001b[0m\u001b[0;34m\u001b[0m\u001b[0m\n\u001b[0m\u001b[1;32m    726\u001b[0m             )\n",
                        "\u001b[0;32m~/azuredatastudio-python/0.0.1/lib/python3.6/site-packages/urllib3/util/retry.py\u001b[0m in \u001b[0;36mincrement\u001b[0;34m(self, method, url, response, error, _pool, _stacktrace)\u001b[0m\n\u001b[1;32m    402\u001b[0m             \u001b[0;32mif\u001b[0m \u001b[0mread\u001b[0m \u001b[0;32mis\u001b[0m \u001b[0;32mFalse\u001b[0m \u001b[0;32mor\u001b[0m \u001b[0;32mnot\u001b[0m \u001b[0mself\u001b[0m\u001b[0;34m.\u001b[0m\u001b[0m_is_method_retryable\u001b[0m\u001b[0;34m(\u001b[0m\u001b[0mmethod\u001b[0m\u001b[0;34m)\u001b[0m\u001b[0;34m:\u001b[0m\u001b[0;34m\u001b[0m\u001b[0m\n\u001b[0;32m--> 403\u001b[0;31m                 \u001b[0;32mraise\u001b[0m \u001b[0msix\u001b[0m\u001b[0;34m.\u001b[0m\u001b[0mreraise\u001b[0m\u001b[0;34m(\u001b[0m\u001b[0mtype\u001b[0m\u001b[0;34m(\u001b[0m\u001b[0merror\u001b[0m\u001b[0;34m)\u001b[0m\u001b[0;34m,\u001b[0m \u001b[0merror\u001b[0m\u001b[0;34m,\u001b[0m \u001b[0m_stacktrace\u001b[0m\u001b[0;34m)\u001b[0m\u001b[0;34m\u001b[0m\u001b[0m\n\u001b[0m\u001b[1;32m    404\u001b[0m             \u001b[0;32melif\u001b[0m \u001b[0mread\u001b[0m \u001b[0;32mis\u001b[0m \u001b[0;32mnot\u001b[0m \u001b[0;32mNone\u001b[0m\u001b[0;34m:\u001b[0m\u001b[0;34m\u001b[0m\u001b[0m\n",
                        "\u001b[0;32m~/azuredatastudio-python/0.0.1/lib/python3.6/site-packages/urllib3/packages/six.py\u001b[0m in \u001b[0;36mreraise\u001b[0;34m(tp, value, tb)\u001b[0m\n\u001b[1;32m    734\u001b[0m                 \u001b[0;32mraise\u001b[0m \u001b[0mvalue\u001b[0m\u001b[0;34m.\u001b[0m\u001b[0mwith_traceback\u001b[0m\u001b[0;34m(\u001b[0m\u001b[0mtb\u001b[0m\u001b[0;34m)\u001b[0m\u001b[0;34m\u001b[0m\u001b[0m\n\u001b[0;32m--> 735\u001b[0;31m             \u001b[0;32mraise\u001b[0m \u001b[0mvalue\u001b[0m\u001b[0;34m\u001b[0m\u001b[0m\n\u001b[0m\u001b[1;32m    736\u001b[0m         \u001b[0;32mfinally\u001b[0m\u001b[0;34m:\u001b[0m\u001b[0;34m\u001b[0m\u001b[0m\n",
                        "\u001b[0;32m~/azuredatastudio-python/0.0.1/lib/python3.6/site-packages/urllib3/connectionpool.py\u001b[0m in \u001b[0;36murlopen\u001b[0;34m(self, method, url, body, headers, retries, redirect, assert_same_host, timeout, pool_timeout, release_conn, chunked, body_pos, **response_kw)\u001b[0m\n\u001b[1;32m    676\u001b[0m                 \u001b[0mheaders\u001b[0m\u001b[0;34m=\u001b[0m\u001b[0mheaders\u001b[0m\u001b[0;34m,\u001b[0m\u001b[0;34m\u001b[0m\u001b[0m\n\u001b[0;32m--> 677\u001b[0;31m                 \u001b[0mchunked\u001b[0m\u001b[0;34m=\u001b[0m\u001b[0mchunked\u001b[0m\u001b[0;34m,\u001b[0m\u001b[0;34m\u001b[0m\u001b[0m\n\u001b[0m\u001b[1;32m    678\u001b[0m             )\n",
                        "\u001b[0;32m~/azuredatastudio-python/0.0.1/lib/python3.6/site-packages/urllib3/connectionpool.py\u001b[0m in \u001b[0;36m_make_request\u001b[0;34m(self, conn, method, url, timeout, chunked, **httplib_request_kw)\u001b[0m\n\u001b[1;32m    427\u001b[0m         \u001b[0;32mexcept\u001b[0m \u001b[0;34m(\u001b[0m\u001b[0mSocketTimeout\u001b[0m\u001b[0;34m,\u001b[0m \u001b[0mBaseSSLError\u001b[0m\u001b[0;34m,\u001b[0m \u001b[0mSocketError\u001b[0m\u001b[0;34m)\u001b[0m \u001b[0;32mas\u001b[0m \u001b[0me\u001b[0m\u001b[0;34m:\u001b[0m\u001b[0;34m\u001b[0m\u001b[0m\n\u001b[0;32m--> 428\u001b[0;31m             \u001b[0mself\u001b[0m\u001b[0;34m.\u001b[0m\u001b[0m_raise_timeout\u001b[0m\u001b[0;34m(\u001b[0m\u001b[0merr\u001b[0m\u001b[0;34m=\u001b[0m\u001b[0me\u001b[0m\u001b[0;34m,\u001b[0m \u001b[0murl\u001b[0m\u001b[0;34m=\u001b[0m\u001b[0murl\u001b[0m\u001b[0;34m,\u001b[0m \u001b[0mtimeout_value\u001b[0m\u001b[0;34m=\u001b[0m\u001b[0mread_timeout\u001b[0m\u001b[0;34m)\u001b[0m\u001b[0;34m\u001b[0m\u001b[0m\n\u001b[0m\u001b[1;32m    429\u001b[0m             \u001b[0;32mraise\u001b[0m\u001b[0;34m\u001b[0m\u001b[0m\n",
                        "\u001b[0;32m~/azuredatastudio-python/0.0.1/lib/python3.6/site-packages/urllib3/connectionpool.py\u001b[0m in \u001b[0;36m_raise_timeout\u001b[0;34m(self, err, url, timeout_value)\u001b[0m\n\u001b[1;32m    335\u001b[0m             raise ReadTimeoutError(\n\u001b[0;32m--> 336\u001b[0;31m                 \u001b[0mself\u001b[0m\u001b[0;34m,\u001b[0m \u001b[0murl\u001b[0m\u001b[0;34m,\u001b[0m \u001b[0;34m\"Read timed out. (read timeout=%s)\"\u001b[0m \u001b[0;34m%\u001b[0m \u001b[0mtimeout_value\u001b[0m\u001b[0;34m\u001b[0m\u001b[0m\n\u001b[0m\u001b[1;32m    337\u001b[0m             )\n",
                        "\u001b[0;31mReadTimeoutError\u001b[0m: HTTPSConnectionPool(host='stats.nba.com', port=443): Read timed out. (read timeout=30)",
                        "\nDuring handling of the above exception, another exception occurred:\n",
                        "\u001b[0;31mReadTimeout\u001b[0m                               Traceback (most recent call last)",
                        "\u001b[0;32m<ipython-input-13-3361d4ac0af9>\u001b[0m in \u001b[0;36m<module>\u001b[0;34m\u001b[0m\n\u001b[1;32m     30\u001b[0m                 \u001b[0mseason\u001b[0m\u001b[0;34m=\u001b[0m\u001b[0mseason\u001b[0m\u001b[0;34m,\u001b[0m\u001b[0;31m \u001b[0m\u001b[0;31m\\\u001b[0m\u001b[0;34m\u001b[0m\u001b[0m\n\u001b[1;32m     31\u001b[0m                 \u001b[0mmeasure_type_detailed\u001b[0m\u001b[0;34m=\u001b[0m\u001b[0mMeasureTypeBase\u001b[0m\u001b[0;34m.\u001b[0m\u001b[0mbase\u001b[0m\u001b[0;34m,\u001b[0m\u001b[0;31m \u001b[0m\u001b[0;31m\\\u001b[0m\u001b[0;34m\u001b[0m\u001b[0m\n\u001b[0;32m---> 32\u001b[0;31m                 season_type_playoffs=SeasonType.regular)\n\u001b[0m\u001b[1;32m     33\u001b[0m \u001b[0;34m\u001b[0m\u001b[0m\n\u001b[1;32m     34\u001b[0m         \u001b[0;31m# Get only the needed data; (OverallPlayerDashboard)\u001b[0m\u001b[0;34m\u001b[0m\u001b[0;34m\u001b[0m\u001b[0m\n",
                        "\u001b[0;32m~/.local/lib/python3.6/site-packages/nba_api/stats/endpoints/playerdashboardbyyearoveryear.py\u001b[0m in \u001b[0;36m__init__\u001b[0;34m(self, player_id, last_n_games, measure_type_detailed, month, opponent_team_id, pace_adjust, per_mode_detailed, period, plus_minus, rank, season, season_type_playoffs, date_from_nullable, date_to_nullable, game_segment_nullable, league_id_nullable, location_nullable, outcome_nullable, po_round_nullable, season_segment_nullable, shot_clock_range_nullable, vs_conference_nullable, vs_division_nullable, proxy, headers, timeout, get_request)\u001b[0m\n\u001b[1;32m     72\u001b[0m         }\n\u001b[1;32m     73\u001b[0m         \u001b[0;32mif\u001b[0m \u001b[0mget_request\u001b[0m\u001b[0;34m:\u001b[0m\u001b[0;34m\u001b[0m\u001b[0m\n\u001b[0;32m---> 74\u001b[0;31m             \u001b[0mself\u001b[0m\u001b[0;34m.\u001b[0m\u001b[0mget_request\u001b[0m\u001b[0;34m(\u001b[0m\u001b[0;34m)\u001b[0m\u001b[0;34m\u001b[0m\u001b[0m\n\u001b[0m\u001b[1;32m     75\u001b[0m \u001b[0;34m\u001b[0m\u001b[0m\n\u001b[1;32m     76\u001b[0m     \u001b[0;32mdef\u001b[0m \u001b[0mget_request\u001b[0m\u001b[0;34m(\u001b[0m\u001b[0mself\u001b[0m\u001b[0;34m)\u001b[0m\u001b[0;34m:\u001b[0m\u001b[0;34m\u001b[0m\u001b[0m\n",
                        "\u001b[0;32m~/.local/lib/python3.6/site-packages/nba_api/stats/endpoints/playerdashboardbyyearoveryear.py\u001b[0m in \u001b[0;36mget_request\u001b[0;34m(self)\u001b[0m\n\u001b[1;32m     80\u001b[0m             \u001b[0mproxy\u001b[0m\u001b[0;34m=\u001b[0m\u001b[0mself\u001b[0m\u001b[0;34m.\u001b[0m\u001b[0mproxy\u001b[0m\u001b[0;34m,\u001b[0m\u001b[0;34m\u001b[0m\u001b[0m\n\u001b[1;32m     81\u001b[0m             \u001b[0mheaders\u001b[0m\u001b[0;34m=\u001b[0m\u001b[0mself\u001b[0m\u001b[0;34m.\u001b[0m\u001b[0mheaders\u001b[0m\u001b[0;34m,\u001b[0m\u001b[0;34m\u001b[0m\u001b[0m\n\u001b[0;32m---> 82\u001b[0;31m             \u001b[0mtimeout\u001b[0m\u001b[0;34m=\u001b[0m\u001b[0mself\u001b[0m\u001b[0;34m.\u001b[0m\u001b[0mtimeout\u001b[0m\u001b[0;34m,\u001b[0m\u001b[0;34m\u001b[0m\u001b[0m\n\u001b[0m\u001b[1;32m     83\u001b[0m         )\n\u001b[1;32m     84\u001b[0m         \u001b[0mself\u001b[0m\u001b[0;34m.\u001b[0m\u001b[0mload_response\u001b[0m\u001b[0;34m(\u001b[0m\u001b[0;34m)\u001b[0m\u001b[0;34m\u001b[0m\u001b[0m\n",
                        "\u001b[0;32m~/.local/lib/python3.6/site-packages/nba_api/library/http.py\u001b[0m in \u001b[0;36msend_api_request\u001b[0;34m(self, endpoint, parameters, referer, proxy, headers, timeout, raise_exception_on_error)\u001b[0m\n\u001b[1;32m    128\u001b[0m \u001b[0;34m\u001b[0m\u001b[0m\n\u001b[1;32m    129\u001b[0m         \u001b[0;32mif\u001b[0m \u001b[0;32mnot\u001b[0m \u001b[0mcontents\u001b[0m\u001b[0;34m:\u001b[0m\u001b[0;34m\u001b[0m\u001b[0m\n\u001b[0;32m--> 130\u001b[0;31m             \u001b[0mresponse\u001b[0m \u001b[0;34m=\u001b[0m \u001b[0mrequests\u001b[0m\u001b[0;34m.\u001b[0m\u001b[0mget\u001b[0m\u001b[0;34m(\u001b[0m\u001b[0murl\u001b[0m\u001b[0;34m=\u001b[0m\u001b[0mbase_url\u001b[0m\u001b[0;34m,\u001b[0m \u001b[0mparams\u001b[0m\u001b[0;34m=\u001b[0m\u001b[0mparameters\u001b[0m\u001b[0;34m,\u001b[0m \u001b[0mheaders\u001b[0m\u001b[0;34m=\u001b[0m\u001b[0mrequest_headers\u001b[0m\u001b[0;34m,\u001b[0m \u001b[0mproxies\u001b[0m\u001b[0;34m=\u001b[0m\u001b[0mproxies\u001b[0m\u001b[0;34m,\u001b[0m \u001b[0mtimeout\u001b[0m\u001b[0;34m=\u001b[0m\u001b[0mtimeout\u001b[0m\u001b[0;34m)\u001b[0m\u001b[0;34m\u001b[0m\u001b[0m\n\u001b[0m\u001b[1;32m    131\u001b[0m             \u001b[0murl\u001b[0m \u001b[0;34m=\u001b[0m \u001b[0mresponse\u001b[0m\u001b[0;34m.\u001b[0m\u001b[0murl\u001b[0m\u001b[0;34m\u001b[0m\u001b[0m\n\u001b[1;32m    132\u001b[0m             \u001b[0mstatus_code\u001b[0m \u001b[0;34m=\u001b[0m \u001b[0mresponse\u001b[0m\u001b[0;34m.\u001b[0m\u001b[0mstatus_code\u001b[0m\u001b[0;34m\u001b[0m\u001b[0m\n",
                        "\u001b[0;32m~/azuredatastudio-python/0.0.1/lib/python3.6/site-packages/requests/api.py\u001b[0m in \u001b[0;36mget\u001b[0;34m(url, params, **kwargs)\u001b[0m\n\u001b[1;32m     74\u001b[0m \u001b[0;34m\u001b[0m\u001b[0m\n\u001b[1;32m     75\u001b[0m     \u001b[0mkwargs\u001b[0m\u001b[0;34m.\u001b[0m\u001b[0msetdefault\u001b[0m\u001b[0;34m(\u001b[0m\u001b[0;34m'allow_redirects'\u001b[0m\u001b[0;34m,\u001b[0m \u001b[0;32mTrue\u001b[0m\u001b[0;34m)\u001b[0m\u001b[0;34m\u001b[0m\u001b[0m\n\u001b[0;32m---> 76\u001b[0;31m     \u001b[0;32mreturn\u001b[0m \u001b[0mrequest\u001b[0m\u001b[0;34m(\u001b[0m\u001b[0;34m'get'\u001b[0m\u001b[0;34m,\u001b[0m \u001b[0murl\u001b[0m\u001b[0;34m,\u001b[0m \u001b[0mparams\u001b[0m\u001b[0;34m=\u001b[0m\u001b[0mparams\u001b[0m\u001b[0;34m,\u001b[0m \u001b[0;34m**\u001b[0m\u001b[0mkwargs\u001b[0m\u001b[0;34m)\u001b[0m\u001b[0;34m\u001b[0m\u001b[0m\n\u001b[0m\u001b[1;32m     77\u001b[0m \u001b[0;34m\u001b[0m\u001b[0m\n\u001b[1;32m     78\u001b[0m \u001b[0;34m\u001b[0m\u001b[0m\n",
                        "\u001b[0;32m~/azuredatastudio-python/0.0.1/lib/python3.6/site-packages/requests/api.py\u001b[0m in \u001b[0;36mrequest\u001b[0;34m(method, url, **kwargs)\u001b[0m\n\u001b[1;32m     59\u001b[0m     \u001b[0;31m# cases, and look like a memory leak in others.\u001b[0m\u001b[0;34m\u001b[0m\u001b[0;34m\u001b[0m\u001b[0m\n\u001b[1;32m     60\u001b[0m     \u001b[0;32mwith\u001b[0m \u001b[0msessions\u001b[0m\u001b[0;34m.\u001b[0m\u001b[0mSession\u001b[0m\u001b[0;34m(\u001b[0m\u001b[0;34m)\u001b[0m \u001b[0;32mas\u001b[0m \u001b[0msession\u001b[0m\u001b[0;34m:\u001b[0m\u001b[0;34m\u001b[0m\u001b[0m\n\u001b[0;32m---> 61\u001b[0;31m         \u001b[0;32mreturn\u001b[0m \u001b[0msession\u001b[0m\u001b[0;34m.\u001b[0m\u001b[0mrequest\u001b[0m\u001b[0;34m(\u001b[0m\u001b[0mmethod\u001b[0m\u001b[0;34m=\u001b[0m\u001b[0mmethod\u001b[0m\u001b[0;34m,\u001b[0m \u001b[0murl\u001b[0m\u001b[0;34m=\u001b[0m\u001b[0murl\u001b[0m\u001b[0;34m,\u001b[0m \u001b[0;34m**\u001b[0m\u001b[0mkwargs\u001b[0m\u001b[0;34m)\u001b[0m\u001b[0;34m\u001b[0m\u001b[0m\n\u001b[0m\u001b[1;32m     62\u001b[0m \u001b[0;34m\u001b[0m\u001b[0m\n\u001b[1;32m     63\u001b[0m \u001b[0;34m\u001b[0m\u001b[0m\n",
                        "\u001b[0;32m~/azuredatastudio-python/0.0.1/lib/python3.6/site-packages/requests/sessions.py\u001b[0m in \u001b[0;36mrequest\u001b[0;34m(self, method, url, params, data, headers, cookies, files, auth, timeout, allow_redirects, proxies, hooks, stream, verify, cert, json)\u001b[0m\n\u001b[1;32m    528\u001b[0m         }\n\u001b[1;32m    529\u001b[0m         \u001b[0msend_kwargs\u001b[0m\u001b[0;34m.\u001b[0m\u001b[0mupdate\u001b[0m\u001b[0;34m(\u001b[0m\u001b[0msettings\u001b[0m\u001b[0;34m)\u001b[0m\u001b[0;34m\u001b[0m\u001b[0m\n\u001b[0;32m--> 530\u001b[0;31m         \u001b[0mresp\u001b[0m \u001b[0;34m=\u001b[0m \u001b[0mself\u001b[0m\u001b[0;34m.\u001b[0m\u001b[0msend\u001b[0m\u001b[0;34m(\u001b[0m\u001b[0mprep\u001b[0m\u001b[0;34m,\u001b[0m \u001b[0;34m**\u001b[0m\u001b[0msend_kwargs\u001b[0m\u001b[0;34m)\u001b[0m\u001b[0;34m\u001b[0m\u001b[0m\n\u001b[0m\u001b[1;32m    531\u001b[0m \u001b[0;34m\u001b[0m\u001b[0m\n\u001b[1;32m    532\u001b[0m         \u001b[0;32mreturn\u001b[0m \u001b[0mresp\u001b[0m\u001b[0;34m\u001b[0m\u001b[0m\n",
                        "\u001b[0;32m~/azuredatastudio-python/0.0.1/lib/python3.6/site-packages/requests/sessions.py\u001b[0m in \u001b[0;36msend\u001b[0;34m(self, request, **kwargs)\u001b[0m\n\u001b[1;32m    641\u001b[0m \u001b[0;34m\u001b[0m\u001b[0m\n\u001b[1;32m    642\u001b[0m         \u001b[0;31m# Send the request\u001b[0m\u001b[0;34m\u001b[0m\u001b[0;34m\u001b[0m\u001b[0m\n\u001b[0;32m--> 643\u001b[0;31m         \u001b[0mr\u001b[0m \u001b[0;34m=\u001b[0m \u001b[0madapter\u001b[0m\u001b[0;34m.\u001b[0m\u001b[0msend\u001b[0m\u001b[0;34m(\u001b[0m\u001b[0mrequest\u001b[0m\u001b[0;34m,\u001b[0m \u001b[0;34m**\u001b[0m\u001b[0mkwargs\u001b[0m\u001b[0;34m)\u001b[0m\u001b[0;34m\u001b[0m\u001b[0m\n\u001b[0m\u001b[1;32m    644\u001b[0m \u001b[0;34m\u001b[0m\u001b[0m\n\u001b[1;32m    645\u001b[0m         \u001b[0;31m# Total elapsed time of the request (approximately)\u001b[0m\u001b[0;34m\u001b[0m\u001b[0;34m\u001b[0m\u001b[0m\n",
                        "\u001b[0;32m~/azuredatastudio-python/0.0.1/lib/python3.6/site-packages/requests/adapters.py\u001b[0m in \u001b[0;36msend\u001b[0;34m(self, request, stream, timeout, verify, cert, proxies)\u001b[0m\n\u001b[1;32m    527\u001b[0m                 \u001b[0;32mraise\u001b[0m \u001b[0mSSLError\u001b[0m\u001b[0;34m(\u001b[0m\u001b[0me\u001b[0m\u001b[0;34m,\u001b[0m \u001b[0mrequest\u001b[0m\u001b[0;34m=\u001b[0m\u001b[0mrequest\u001b[0m\u001b[0;34m)\u001b[0m\u001b[0;34m\u001b[0m\u001b[0m\n\u001b[1;32m    528\u001b[0m             \u001b[0;32melif\u001b[0m \u001b[0misinstance\u001b[0m\u001b[0;34m(\u001b[0m\u001b[0me\u001b[0m\u001b[0;34m,\u001b[0m \u001b[0mReadTimeoutError\u001b[0m\u001b[0;34m)\u001b[0m\u001b[0;34m:\u001b[0m\u001b[0;34m\u001b[0m\u001b[0m\n\u001b[0;32m--> 529\u001b[0;31m                 \u001b[0;32mraise\u001b[0m \u001b[0mReadTimeout\u001b[0m\u001b[0;34m(\u001b[0m\u001b[0me\u001b[0m\u001b[0;34m,\u001b[0m \u001b[0mrequest\u001b[0m\u001b[0;34m=\u001b[0m\u001b[0mrequest\u001b[0m\u001b[0;34m)\u001b[0m\u001b[0;34m\u001b[0m\u001b[0m\n\u001b[0m\u001b[1;32m    530\u001b[0m             \u001b[0;32melse\u001b[0m\u001b[0;34m:\u001b[0m\u001b[0;34m\u001b[0m\u001b[0m\n\u001b[1;32m    531\u001b[0m                 \u001b[0;32mraise\u001b[0m\u001b[0;34m\u001b[0m\u001b[0m\n",
                        "\u001b[0;31mReadTimeout\u001b[0m: HTTPSConnectionPool(host='stats.nba.com', port=443): Read timed out. (read timeout=30)"
                    ],
                    "ename": "ReadTimeout",
                    "evalue": "HTTPSConnectionPool(host='stats.nba.com', port=443): Read timed out. (read timeout=30)",
                    "output_type": "error"
                }
            ],
            "execution_count": 13
        },
        {
            "cell_type": "code",
            "source": [
                "player_stats_list = []\n",
                "seasons = ['2010-11', '2011-12', '2012-13', '2013-14', '2014-15']\n",
                "\n",
                "headers = [ 'PERSON_ID', 'DISPLAY_FIRST_LAST', 'TEAM_ID', 'TEAM_NAME', 'GROUP_SET', 'GROUP_VALUE', 'TEAM_ID', 'TEAM_ABBREVIATION', 'MAX_GAME_DATE', 'GP', 'W', 'L', 'W_PCT', 'MIN', 'FGM', 'FGA', 'FG_PCT', 'FG3M', 'FG3A', 'FG3_PCT', 'FTM', 'FTA', 'FT_PCT', 'OREB', 'DREB', 'REB', 'AST', 'TOV', 'STL', 'BLK', 'BLKA', 'PF', 'PFD', 'PTS', 'PLUS_MINUS', 'NBA_FANTASY_PTS', 'DD2', 'TD3', 'GP_RANK', 'W_RANK', 'L_RANK', 'W_PCT_RANK', 'MIN_RANK', 'FGM_RANK', 'FGA_RANK', 'FG_PCT_RANK', 'FG3M_RANK', 'FG3A_RANK', 'FG3_PCT_RANK', 'FTM_RANK', 'FTA_RANK', 'FT_PCT_RANK', 'OREB_RANK', 'DREB_RANK', 'REB_RANK', 'AST_RANK', 'TOV_RANK', 'STL_RANK', 'BLK_RANK', 'BLKA_RANK', 'PF_RANK', 'PFD_RANK', 'PTS_RANK', 'PLUS_MINUS_RANK', 'NBA_FANTASY_PTS_RANK', 'DD2_RANK', 'TD3_RANK', 'CFID', 'CFPARAMS']\n",
                "\n",
                "# print(player_stats_df.columns, \"\\n\")\n",
                "now = datetime.now()\n",
                "current_time = now.strftime(\"%H:%M:%S\")\n",
                "print(\"Execution started at\", current_time)\n",
                "\n",
                "# Loop through seasons\n",
                "for season in seasons:\n",
                "    print(\"Season\", season)\n",
                "\n",
                "    # Loop though all the players (for development: all_players[:5])\n",
                "    for index, row in all_players.iterrows():\n",
                "        print(row['PERSON_ID'], row['DISPLAY_FIRST_LAST'])\n",
                "\n",
                "        #Add some sleep time between pulls\n",
                "        if index % 100 == 0:\n",
                "            time.sleep(random.uniform(3, 10))\n",
                "        elif index % 50 == 0:\n",
                "            time.sleep(random.uniform(3, 5))\n",
                "\n",
                "        # Get the player stats by making an API call\n",
                "        # https://github.com/swar/nba_api/blob/master/docs/nba_api/stats/endpoints/playerdashboardbyyearoveryear.md\n",
                "        player_det = playerdashboardbyyearoveryear \\\n",
                "            .PlayerDashboardByYearOverYear(player_id=row['PERSON_ID'], \\\n",
                "                season=season, \\\n",
                "                measure_type_detailed=MeasureTypeBase.base, \\\n",
                "                season_type_playoffs=SeasonType.regular)\n",
                "\n",
                "        # Get only the needed data; (OverallPlayerDashboard)\n",
                "        player_stats = player_det.get_data_frames()[1]\n",
                "        one_player_stats_list = player_stats[player_stats.GROUP_VALUE == season].values.tolist()\n",
                "\n",
                "        # Some data comes in as blank; need to filter it out\n",
                "        if len(one_player_stats_list) > 0:\n",
                "            # Select only the \"2019-20\" season\n",
                "            merged_one_player_stats_list = player_stats[player_stats.GROUP_VALUE == season].values.tolist()[0]\n",
                "\n",
                "            # Append the Person ID, Name, Team to the returned stats\n",
                "            merged_one_player_stats_list[:0] = [row['PERSON_ID'], row['DISPLAY_FIRST_LAST'], row['TEAM_ID'], row['TEAM_NAME']]\n",
                "            # Append to list\n",
                "            player_stats_list.append(merged_one_player_stats_list)\n",
                "\n",
                "\n",
                "# PLAYERS DATAFRAME\n",
                "# Basically the \"Traditional Splits\" from the page below but for all the players.\n",
                "# https://www.nba.com/stats/player/203500/?sort=DREB&dir=1&Season=2019-20&SeasonType=Regular%20Season&PerMode=Totals\n",
                "players_stats_df = pd.DataFrame(player_stats_list, columns = headers)\n",
                "\n",
                "print(\"\\n>>> Player Stats DataFrame\\n\")\n",
                "print(players_stats_df)\n",
                "\n",
                "# Eport data to CSV\n",
                "players_stats_df.to_csv('data/players_stats_multi_season__2010_2015.csv')\n",
                "\n",
                "now = datetime.now()\n",
                "current_time = now.strftime(\"%H:%M:%S\")\n",
                "print(\"Execution completed at\", current_time)\n",
                "\n",
                ""
            ],
            "metadata": {
                "azdata_cell_guid": "91e5b0be-ef22-4ff6-aa98-0ed8026ab31c"
            },
            "outputs": [
{
    "name": "stdout",
    "text": "Execution started at 10:00:01\nSeason 2010-11\n1629121 Jaylen Adams\n",
    "output_type": "stream"
}, {
    "name": "stdout",
    "text": "203500 Steven Adams\n",
    "output_type": "stream"
}, {
    "name": "stdout",
    "text": "1628389 Bam Adebayo\n",
    "output_type": "stream"
}, {
    "name": "stdout",
    "text": "200746 LaMarcus Aldridge\n",
    "output_type": "stream"
}, {
    "name": "stdout",
    "text": "1629734 Kyle Alexander\n",
    "output_type": "stream"
}, {
    "name": "stdout",
    "text": "1629638 Nickeil Alexander-Walker\n",
    "output_type": "stream"
}, {
    "name": "stdout",
    "text": "1628960 Grayson Allen\n",
    "output_type": "stream"
}, {
    "name": "stdout",
    "text": "1628386 Jarrett Allen\n",
    "output_type": "stream"
}, {
    "name": "stdout",
    "text": "202329 Al-Farouq Aminu\n",
    "output_type": "stream"
}, {
    "name": "stdout",
    "text": "1626147 Justin Anderson\n",
    "output_type": "stream"
}, {
    "name": "stdout",
    "text": "203937 Kyle Anderson\n",
    "output_type": "stream"
}, {
    "name": "stdout",
    "text": "203507 Giannis Antetokounmpo\n",
    "output_type": "stream"
}, {
    "name": "stdout",
    "text": "1628961 Kostas Antetokounmpo\n",
    "output_type": "stream"
}, {
    "name": "stdout",
    "text": "203648 Thanasis Antetokounmpo\n",
    "output_type": "stream"
}, {
    "name": "stdout",
    "text": "2546 Carmelo Anthony\n",
    "output_type": "stream"
}, {
    "name": "stdout",
    "text": "1628384 OG Anunoby\n",
    "output_type": "stream"
}, {
    "name": "stdout",
    "text": "1627853 Ryan Arcidiacono\n",
    "output_type": "stream"
}, {
    "name": "stdout",
    "text": "2772 Trevor Ariza\n",
    "output_type": "stream"
}, {
    "name": "stdout",
    "text": "201571 D.J. Augustin\n",
    "output_type": "stream"
}, {
    "name": "stdout",
    "text": "1629028 Deandre Ayton\n",
    "output_type": "stream"
}, {
    "name": "stdout",
    "text": "1628407 Dwayne Bacon\n",
    "output_type": "stream"
}, {
    "name": "stdout",
    "text": "1628963 Marvin Bagley III\n",
    "output_type": "stream"
}, {
    "name": "stdout",
    "text": "1628366 Lonzo Ball\n",
    "output_type": "stream"
}, {
    "name": "stdout",
    "text": "1628964 Mo Bamba\n",
    "output_type": "stream"
}, {
    "name": "stdout",
    "text": "200826 J.J. Barea\n",
    "output_type": "stream"
}, {
    "name": "stdout",
    "text": "203084 Harrison Barnes\n",
    "output_type": "stream"
}, {
    "name": "stdout",
    "text": "1629628 RJ Barrett\n",
    "output_type": "stream"
}, {
    "name": "stdout",
    "text": "203115 Will Barton\n",
    "output_type": "stream"
}, {
    "name": "stdout",
    "text": "1628966 Keita Bates-Diop\n",
    "output_type": "stream"
}, {
    "name": "stdout",
    "text": "201587 Nicolas Batum\n",
    "output_type": "stream"
}, {
    "name": "stdout",
    "text": "203382 Aron Baynes\n",
    "output_type": "stream"
}, {
    "name": "stdout",
    "text": "203145 Kent Bazemore\n",
    "output_type": "stream"
}, {
    "name": "stdout",
    "text": "1629647 Darius Bazley\n",
    "output_type": "stream"
}, {
    "name": "stdout",
    "text": "203078 Bradley Beal\n",
    "output_type": "stream"
}, {
    "name": "stdout",
    "text": "1627736 Malik Beasley\n",
    "output_type": "stream"
}, {
    "name": "stdout",
    "text": "201158 Marco Belinelli\n",
    "output_type": "stream"
}, {
    "name": "stdout",
    "text": "1628395 Jordan Bell\n",
    "output_type": "stream"
}, {
    "name": "stdout",
    "text": "1627761 DeAndre' Bembry\n",
    "output_type": "stream"
}, {
    "name": "stdout",
    "text": "202722 Davis Bertans\n",
    "output_type": "stream"
}, {
    "name": "stdout",
    "text": "201976 Patrick Beverley\n",
    "output_type": "stream"
}, {
    "name": "stdout",
    "text": "203920 Khem Birch\n",
    "output_type": "stream"
}, {
    "name": "stdout",
    "text": "1629048 Goga Bitadze\n",
    "output_type": "stream"
}, {
    "name": "stdout",
    "text": "202687 Bismack Biyombo\n",
    "output_type": "stream"
}, {
    "name": "stdout",
    "text": "202357 Nemanja Bjelica\n",
    "output_type": "stream"
}, {
    "name": "stdout",
    "text": "202339 Eric Bledsoe\n",
    "output_type": "stream"
}, {
    "name": "stdout",
    "text": "203992 Bogdan Bogdanovic\n",
    "output_type": "stream"
}, {
    "name": "stdout",
    "text": "202711 Bojan Bogdanovic\n",
    "output_type": "stream"
}, {
    "name": "stdout",
    "text": "1629626 Bol Bol\n",
    "output_type": "stream"
}, {
    "name": "stdout",
    "text": "1629648 Jordan Bone\n",
    "output_type": "stream"
}, {
    "name": "stdout",
    "text": "1629067 Isaac Bonga\n",
    "output_type": "stream"
}, {
    "name": "stdout",
    "text": "1626164 Devin Booker\n",
    "output_type": "stream"
}, {
    "name": "stdout",
    "text": "1628449 Chris Boucher\n",
    "output_type": "stream"
}, {
    "name": "stdout",
    "text": "1628968 Brian Bowen II\n",
    "output_type": "stream"
}, {
    "name": "stdout",
    "text": "1629065 Ky Bowman\n",
    "output_type": "stream"
}, {
    "name": "stdout",
    "text": "202340 Avery Bradley\n",
    "output_type": "stream"
}, {
    "name": "stdout",
    "text": "1628396 Tony Bradley\n",
    "output_type": "stream"
}, {
    "name": "stdout",
    "text": "1629714 Jarrell Brantley\n",
    "output_type": "stream"
}, {
    "name": "stdout",
    "text": "1629649 Ignas Brazdeikis\n",
    "output_type": "stream"
}, {
    "name": "stdout",
    "text": "201147 Corey Brewer\n",
    "output_type": "stream"
}, {
    "name": "stdout",
    "text": "1628969 Mikal Bridges\n",
    "output_type": "stream"
}, {
    "name": "stdout",
    "text": "1628970 Miles Bridges\n",
    "output_type": "stream"
}, {
    "name": "stdout",
    "text": "1629052 Oshae Brissett\n",
    "output_type": "stream"
}, {
    "name": "stdout",
    "text": "1629151 Ryan Broekhoff\n",
    "output_type": "stream"
}, {
    "name": "stdout",
    "text": "1627763 Malcolm Brogdon\n",
    "output_type": "stream"
}, {
    "name": "stdout",
    "text": "1628415 Dillon Brooks\n",
    "output_type": "stream"
}, {
    "name": "stdout",
    "text": "1628971 Bruce Brown\n",
    "output_type": "stream"
}, {
    "name": "stdout",
    "text": "1627759 Jaylen Brown\n",
    "output_type": "stream"
}, {
    "name": "stdout",
    "text": "1629650 Moses Brown\n",
    "output_type": "stream"
}, {
    "name": "stdout",
    "text": "1628425 Sterling Brown\n",
    "output_type": "stream"
}, {
    "name": "stdout",
    "text": "1629718 Charles Brown Jr.\n",
    "output_type": "stream"
}, {
    "name": "stdout",
    "text": "1628972 Troy Brown Jr.\n",
    "output_type": "stream"
}, {
    "name": "stdout",
    "text": "1628973 Jalen Brunson\n",
    "output_type": "stream"
}, {
    "name": "stdout",
    "text": "1628418 Thomas Bryant\n",
    "output_type": "stream"
}, {
    "name": "stdout",
    "text": "203493 Reggie Bullock\n",
    "output_type": "stream"
}, {
    "name": "stdout",
    "text": "203504 Trey Burke\n",
    "output_type": "stream"
}, {
    "name": "stdout",
    "text": "202692 Alec Burks\n",
    "output_type": "stream"
}, {
    "name": "stdout",
    "text": "1629126 Deonte Burton\n",
    "output_type": "stream"
}, {
    "name": "stdout",
    "text": "202710 Jimmy Butler\n",
    "output_type": "stream"
}, {
    "name": "stdout",
    "text": "203998 Bruno Caboclo\n",
    "output_type": "stream"
}, {
    "name": "stdout",
    "text": "1629719 Devontae Cacok\n",
    "output_type": "stream"
}, {
    "name": "stdout",
    "text": "203484 Kentavious Caldwell-Pope\n",
    "output_type": "stream"
}, {
    "name": "stdout",
    "text": "1628427 Vlatko Cancar\n",
    "output_type": "stream"
}, {
    "name": "stdout",
    "text": "203991 Clint Capela\n",
    "output_type": "stream"
}, {
    "name": "stdout",
    "text": "201960 DeMarre Carroll\n",
    "output_type": "stream"
}, {
    "name": "stdout",
    "text": "1628975 Jevon Carter\n",
    "output_type": "stream"
}, {
    "name": "stdout",
    "text": "1713 Vince Carter\n",
    "output_type": "stream"
}, {
    "name": "stdout",
    "text": "1628976 Wendell Carter Jr.\n",
    "output_type": "stream"
}, {
    "name": "stdout",
    "text": "203487 Michael Carter-Williams\n",
    "output_type": "stream"
}, {
    "name": "stdout",
    "text": "1627936 Alex Caruso\n",
    "output_type": "stream"
}, {
    "name": "stdout",
    "text": "1626161 Willie Cauley-Stein\n",
    "output_type": "stream"
}, {
    "name": "stdout",
    "text": "2199 Tyson Chandler\n",
    "output_type": "stream"
}, {
    "name": "stdout",
    "text": "201163 Wilson Chandler\n",
    "output_type": "stream"
}, {
    "name": "stdout",
    "text": "1629597 Zylan Cheatham\n",
    "output_type": "stream"
}, {
    "name": "stdout",
    "text": "1629185 Chris Chiozza\n",
    "output_type": "stream"
}, {
    "name": "stdout",
    "text": "1627737 Marquese Chriss\n",
    "output_type": "stream"
}, {
    "name": "stdout",
    "text": "1629109 Gary Clark\n",
    "output_type": "stream"
}, {
    "name": "stdout",
    "text": "1629634 Brandon Clarke\n",
    "output_type": "stream"
}, {
    "name": "stdout",
    "text": "203903 Jordan Clarkson\n",
    "output_type": "stream"
}, {
    "name": "stdout",
    "text": "1629651 Nicolas Claxton\n",
    "output_type": "stream"
}, {
    "name": "stdout",
    "text": "1629598 Chris Clemons\n",
    "output_type": "stream"
}, {
    "name": "stdout",
    "text": "1628499 Antonius Cleveland\n",
    "output_type": "stream"
}, {
    "name": "stdout",
    "text": "1629599 Amir Coffey\n",
    "output_type": "stream"
}, {
    "name": "stdout",
    "text": "1628381 John Collins\n",
    "output_type": "stream"
}, {
    "name": "stdout",
    "text": "1628380 Zach Collins\n",
    "output_type": "stream"
}, {
    "name": "stdout",
    "text": "201144 Mike Conley\n",
    "output_type": "stream"
}, {
    "name": "stdout",
    "text": "1626192 Pat Connaughton\n",
    "output_type": "stream"
}, {
    "name": "stdout",
    "text": "1626188 Quinn Cook\n",
    "output_type": "stream"
}, {
    "name": "stdout",
    "text": "1629076 Tyler Cook\n",
    "output_type": "stream"
}, {
    "name": "stdout",
    "text": "203496 Robert Covington\n",
    "output_type": "stream"
}, {
    "name": "stdout",
    "text": "1628470 Torrey Craig\n",
    "output_type": "stream"
}, {
    "name": "stdout",
    "text": "2037 Jamal Crawford\n",
    "output_type": "stream"
}, {
    "name": "stdout",
    "text": "203109 Jae Crowder\n",
    "output_type": "stream"
}, {
    "name": "stdout",
    "text": "1629633 Jarrett Culver\n",
    "output_type": "stream"
}, {
    "name": "stdout",
    "text": "203552 Seth Curry\n",
    "output_type": "stream"
}, {
    "name": "stdout",
    "text": "201939 Stephen Curry\n",
    "output_type": "stream"
}, {
    "name": "stdout",
    "text": "203584 Troy Daniels\n",
    "output_type": "stream"
}, {
    "name": "stdout",
    "text": "203076 Anthony Davis\n",
    "output_type": "stream"
}, {
    "name": "stdout",
    "text": "202334 Ed Davis\n",
    "output_type": "stream"
}, {
    "name": "stdout",
    "text": "1629056 Terence Davis\n",
    "output_type": "stream"
}, {
    "name": "stdout",
    "text": "201942 DeMar DeRozan\n",
    "output_type": "stream"
}, {
    "name": "stdout",
    "text": "203473 Dewayne Dedmon\n",
    "output_type": "stream"
}, {
    "name": "stdout",
    "text": "203521 Matthew Dellavedova\n",
    "output_type": "stream"
}, {
    "name": "stdout",
    "text": "1628978 Donte DiVincenzo\n",
    "output_type": "stream"
}, {
    "name": "stdout",
    "text": "1627767 Cheick Diallo\n",
    "output_type": "stream"
}, {
    "name": "stdout",
    "text": "1628977 Hamidou Diallo\n",
    "output_type": "stream"
}, {
    "name": "stdout",
    "text": "203476 Gorgui Dieng\n",
    "output_type": "stream"
}, {
    "name": "stdout",
    "text": "203915 Spencer Dinwiddie\n",
    "output_type": "stream"
}, {
    "name": "stdout",
    "text": "1629029 Luka Doncic\n",
    "output_type": "stream"
}, {
    "name": "stdout",
    "text": "1629652 Luguentz Dort\n",
    "output_type": "stream"
}, {
    "name": "stdout",
    "text": "1628422 Damyean Dotson\n",
    "output_type": "stream"
}, {
    "name": "stdout",
    "text": "1629635 Sekou Doumbouya\n",
    "output_type": "stream"
}, {
    "name": "stdout",
    "text": "1628408 PJ Dozier\n",
    "output_type": "stream"
}, {
    "name": "stdout",
    "text": "201609 Goran Dragic\n",
    "output_type": "stream"
}, {
    "name": "stdout",
    "text": "203083 Andre Drummond\n",
    "output_type": "stream"
}, {
    "name": "stdout",
    "text": "201162 Jared Dudley\n",
    "output_type": "stream"
}, {
    "name": "stdout",
    "text": "1627739 Kris Dunn\n",
    "output_type": "stream"
}, {
    "name": "stdout",
    "text": "201142 Kevin Durant\n",
    "output_type": "stream"
}, {
    "name": "stdout",
    "text": "1629035 Carsen Edwards\n",
    "output_type": "stream"
}, {
    "name": "stdout",
    "text": "201961 Wayne Ellington\n",
    "output_type": "stream"
}, {
    "name": "stdout",
    "text": "203954 Joel Embiid\n",
    "output_type": "stream"
}, {
    "name": "stdout",
    "text": "203516 James Ennis III\n",
    "output_type": "stream"
}, {
    "name": "stdout",
    "text": "1629234 Drew Eubanks\n",
    "output_type": "stream"
}, {
    "name": "stdout",
    "text": "1628980 Jacob Evans\n",
    "output_type": "stream"
}, {
    "name": "stdout",
    "text": "203957 Dante Exum\n",
    "output_type": "stream"
}, {
    "name": "stdout",
    "text": "1629605 Tacko Fall\n",
    "output_type": "stream"
}, {
    "name": "stdout",
    "text": "202324 Derrick Favors\n",
    "output_type": "stream"
}, {
    "name": "stdout",
    "text": "1626245 Cristiano Felicio\n",
    "output_type": "stream"
}, {
    "name": "stdout",
    "text": "1628390 Terrance Ferguson\n",
    "output_type": "stream"
}, {
    "name": "stdout",
    "text": "1628981 Bruno Fernando\n",
    "output_type": "stream"
}, {
    "name": "stdout",
    "text": "1627812 Yogi Ferrell\n",
    "output_type": "stream"
}, {
    "name": "stdout",
    "text": "1627827 Dorian Finney-Smith\n",
    "output_type": "stream"
}, {
    "name": "stdout",
    "text": "1627854 Bryn Forbes\n",
    "output_type": "stream"
}, {
    "name": "stdout",
    "text": "203095 Evan Fournier\n",
    "output_type": "stream"
}, {
    "name": "stdout",
    "text": "1628368 De'Aaron Fox\n",
    "output_type": "stream"
}, {
    "name": "stdout",
    "text": "1626187 Michael Frazier\n",
    "output_type": "stream"
}, {
    "name": "stdout",
    "text": "1628982 Melvin Frazier Jr.\n",
    "output_type": "stream"
}, {
    "name": "stdout",
    "text": "1628365 Markelle Fultz\n",
    "output_type": "stream"
}, {
    "name": "stdout",
    "text": "1629117 Wenyen Gabriel\n",
    "output_type": "stream"
}, {
    "name": "stdout",
    "text": "1629655 Daniel Gafford\n",
    "output_type": "stream"
}, {
    "name": "stdout",
    "text": "201568 Danilo Gallinari\n",
    "output_type": "stream"
}, {
    "name": "stdout",
    "text": "204038 Langston Galloway\n",
    "output_type": "stream"
}, {
    "name": "stdout",
    "text": "1629636 Darius Garland\n",
    "output_type": "stream"
}, {
    "name": "stdout",
    "text": "201188 Marc Gasol\n",
    "output_type": "stream"
}, {
    "name": "stdout",
    "text": "200752 Rudy Gay\n",
    "output_type": "stream"
}, {
    "name": "stdout",
    "text": "202331 Paul George\n",
    "output_type": "stream"
}, {
    "name": "stdout",
    "text": "201959 Taj Gibson\n",
    "output_type": "stream"
}, {
    "name": "stdout",
    "text": "1628385 Harry Giles III\n",
    "output_type": "stream"
}, {
    "name": "stdout",
    "text": "1628983 Shai Gilgeous-Alexander\n",
    "output_type": "stream"
}, {
    "name": "stdout",
    "text": "203497 Rudy Gobert\n",
    "output_type": "stream"
}, {
    "name": "stdout",
    "text": "1629164 Brandon Goodwin\n",
    "output_type": "stream"
}, {
    "name": "stdout",
    "text": "203932 Aaron Gordon\n",
    "output_type": "stream"
}, {
    "name": "stdout",
    "text": "201569 Eric Gordon\n",
    "output_type": "stream"
}, {
    "name": "stdout",
    "text": "1628984 Devonte' Graham\n",
    "output_type": "stream"
}, {
    "name": "stdout",
    "text": "1626203 Treveon Graham\n",
    "output_type": "stream"
}, {
    "name": "stdout",
    "text": "203924 Jerami Grant\n",
    "output_type": "stream"
}, {
    "name": "stdout",
    "text": "1626170 Jerian Grant\n",
    "output_type": "stream"
}, {
    "name": "stdout",
    "text": "1627982 Josh Gray\n",
    "output_type": "stream"
}, {
    "name": "stdout",
    "text": "201980 Danny Green\n",
    "output_type": "stream"
}, {
    "name": "stdout",
    "text": "203110 Draymond Green\n",
    "output_type": "stream"
}, {
    "name": "stdout",
    "text": "203210 JaMychal Green\n",
    "output_type": "stream"
}, {
    "name": "stdout",
    "text": "1629750 Javonte Green\n",
    "output_type": "stream"
}, {
    "name": "stdout",
    "text": "201145 Jeff Green\n",
    "output_type": "stream"
}, {
    "name": "stdout",
    "text": "201933 Blake Griffin\n",
    "output_type": "stream"
}, {
    "name": "stdout",
    "text": "1629741 Marko Guduric\n",
    "output_type": "stream"
}, {
    "name": "stdout",
    "text": "1629657 Kyle Guy\n",
    "output_type": "stream"
}, {
    "name": "stdout",
    "text": "1629060 Rui Hachimura\n",
    "output_type": "stream"
}, {
    "name": "stdout",
    "text": "1628985 Devon Hall\n",
    "output_type": "stream"
}, {
    "name": "stdout",
    "text": "1629743 Donta Hall\n",
    "output_type": "stream"
}, {
    "name": "stdout",
    "text": "203501 Tim Hardaway Jr.\n",
    "output_type": "stream"
}, {
    "name": "stdout",
    "text": "201935 James Harden\n",
    "output_type": "stream"
}, {
    "name": "stdout",
    "text": "203090 Maurice Harkless\n",
    "output_type": "stream"
}, {
    "name": "stdout",
    "text": "1629607 Jared Harper\n",
    "output_type": "stream"
}, {
    "name": "stdout",
    "text": "1626149 Montrezl Harrell\n",
    "output_type": "stream"
}, {
    "name": "stdout",
    "text": "203914 Gary Harris\n",
    "output_type": "stream"
}, {
    "name": "stdout",
    "text": "203925 Joe Harris\n",
    "output_type": "stream"
}, {
    "name": "stdout",
    "text": "202699 Tobias Harris\n",
    "output_type": "stream"
}, {
    "name": "stdout",
    "text": "1627885 Shaquille Harrison\n",
    "output_type": "stream"
}, {
    "name": "stdout",
    "text": "1628404 Josh Hart\n",
    "output_type": "stream"
}, {
    "name": "stdout",
    "text": "2617 Udonis Haslem\n",
    "output_type": "stream"
}, {
    "name": "stdout",
    "text": "1629637 Jaxson Hayes\n",
    "output_type": "stream"
}, {
    "name": "stdout",
    "text": "202330 Gordon Hayward\n",
    "output_type": "stream"
}, {
    "name": "stdout",
    "text": "203089 John Henson\n",
    "output_type": "stream"
}, {
    "name": "stdout",
    "text": "1629608 Dewan Hernandez\n",
    "output_type": "stream"
}, {
    "name": "stdout",
    "text": "1627823 Juancho Hernangomez\n",
    "output_type": "stream"
}, {
    "name": "stdout",
    "text": "1626195 Willy Hernangomez\n",
    "output_type": "stream"
}, {
    "name": "stdout",
    "text": "1629639 Tyler Herro\n",
    "output_type": "stream"
}, {
    "name": "stdout",
    "text": "1628987 Kevin Hervey\n",
    "output_type": "stream"
}, {
    "name": "stdout",
    "text": "1626209 Mario Hezonja\n",
    "output_type": "stream"
}, {
    "name": "stdout",
    "text": "1627741 Buddy Hield\n",
    "output_type": "stream"
}, {
    "name": "stdout",
    "text": "201588 George Hill\n",
    "output_type": "stream"
}, {
    "name": "stdout",
    "text": "203524 Solomon Hill\n",
    "output_type": "stream"
}, {
    "name": "stdout",
    "text": "1629658 Jaylen Hoard\n",
    "output_type": "stream"
}, {
    "name": "stdout",
    "text": "1628988 Aaron Holiday\n",
    "output_type": "stream"
}, {
    "name": "stdout",
    "text": "201950 Jrue Holiday\n",
    "output_type": "stream"
}, {
    "name": "stdout",
    "text": "203200 Justin Holiday\n",
    "output_type": "stream"
}, {
    "name": "stdout",
    "text": "1626178 Rondae Hollis-Jefferson\n",
    "output_type": "stream"
}, {
    "name": "stdout",
    "text": "1626158 Richaun Holmes\n",
    "output_type": "stream"
}, {
    "name": "stdout",
    "text": "203918 Rodney Hood\n",
    "output_type": "stream"
}, {
    "name": "stdout",
    "text": "201143 Al Horford\n",
    "output_type": "stream"
}, {
    "name": "stdout",
    "text": "1629659 Talen Horton-Tucker\n",
    "output_type": "stream"
}, {
    "name": "stdout",
    "text": "1627863 Danuel House Jr.\n",
    "output_type": "stream"
}, {
    "name": "stdout",
    "text": "2730 Dwight Howard\n",
    "output_type": "stream"
}, {
    "name": "stdout",
    "text": "1629739 William Howard\n",
    "output_type": "stream"
}, {
    "name": "stdout",
    "text": "1628989 Kevin Huerter\n",
    "output_type": "stream"
}, {
    "name": "stdout",
    "text": "1629631 De'Andre Hunter\n",
    "output_type": "stream"
}, {
    "name": "stdout",
    "text": "1628990 Chandler Hutchison\n",
    "output_type": "stream"
}, {
    "name": "stdout",
    "text": "201586 Serge Ibaka\n",
    "output_type": "stream"
}, {
    "name": "stdout",
    "text": "2738 Andre Iguodala\n",
    "output_type": "stream"
}, {
    "name": "stdout",
    "text": "101141 Ersan Ilyasova\n",
    "output_type": "stream"
}, {
    "name": "stdout",
    "text": "204060 Joe Ingles\n",
    "output_type": "stream"
}, {
    "name": "stdout",
    "text": "1627742 Brandon Ingram\n",
    "output_type": "stream"
}, {
    "name": "stdout",
    "text": "202681 Kyrie Irving\n",
    "output_type": "stream"
}, {
    "name": "stdout",
    "text": "1628371 Jonathan Isaac\n",
    "output_type": "stream"
}, {
    "name": "stdout",
    "text": "1628411 Wes Iwundu\n",
    "output_type": "stream"
}, {
    "name": "stdout",
    "text": "1628402 Frank Jackson\n",
    "output_type": "stream"
}, {
    "name": "stdout",
    "text": "1628367 Josh Jackson\n",
    "output_type": "stream"
}, {
    "name": "stdout",
    "text": "1628382 Justin Jackson\n",
    "output_type": "stream"
}, {
    "name": "stdout",
    "text": "202704 Reggie Jackson\n",
    "output_type": "stream"
}, {
    "name": "stdout",
    "text": "1628991 Jaren Jackson Jr.\n",
    "output_type": "stream"
}, {
    "name": "stdout",
    "text": "1629713 Justin James\n",
    "output_type": "stream"
}, {
    "name": "stdout",
    "text": "2544 LeBron James\n",
    "output_type": "stream"
}, {
    "name": "stdout",
    "text": "1629610 DaQuan Jeffries\n",
    "output_type": "stream"
}, {
    "name": "stdout",
    "text": "1629660 Ty Jerome\n",
    "output_type": "stream"
}, {
    "name": "stdout",
    "text": "1628993 Alize Johnson\n",
    "output_type": "stream"
}, {
    "name": "stdout",
    "text": "1629168 BJ Johnson\n",
    "output_type": "stream"
}, {
    "name": "stdout",
    "text": "1629661 Cameron Johnson\n",
    "output_type": "stream"
}, {
    "name": "stdout",
    "text": "201949 James Johnson\n",
    "output_type": "stream"
}, {
    "name": "stdout",
    "text": "1629640 Keldon Johnson\n",
    "output_type": "stream"
}, {
    "name": "stdout",
    "text": "1626169 Stanley Johnson\n",
    "output_type": "stream"
}, {
    "name": "stdout",
    "text": "204020 Tyler Johnson\n",
    "output_type": "stream"
}, {
    "name": "stdout",
    "text": "203999 Nikola Jokic\n",
    "output_type": "stream"
}, {
    "name": "stdout",
    "text": "1627745 Damian Jones\n",
    "output_type": "stream"
}, {
    "name": "stdout",
    "text": "1626145 Tyus Jones\n",
    "output_type": "stream"
}, {
    "name": "stdout",
    "text": "1627884 Derrick Jones Jr.\n",
    "output_type": "stream"
}, {
    "name": "stdout",
    "text": "201599 DeAndre Jordan\n",
    "output_type": "stream"
}, {
    "name": "stdout",
    "text": "202709 Cory Joseph\n",
    "output_type": "stream"
}, {
    "name": "stdout",
    "text": "1629662 Mfiondu Kabengele\n",
    "output_type": "stream"
}, {
    "name": "stdout",
    "text": "1626163 Frank Kaminsky\n",
    "output_type": "stream"
}, {
    "name": "stdout",
    "text": "202683 Enes Kanter\n",
    "output_type": "stream"
}, {
    "name": "stdout",
    "text": "1628379 Luke Kennard\n",
    "output_type": "stream"
}, {
    "name": "stdout",
    "text": "203077 Michael Kidd-Gilchrist\n",
    "output_type": "stream"
}, {
    "name": "stdout",
    "text": "1629663 Louis King\n",
    "output_type": "stream"
}, {
    "name": "stdout",
    "text": "1628467 Maxi Kleber\n",
    "output_type": "stream"
}, {
    "name": "stdout",
    "text": "202688 Brandon Knight\n",
    "output_type": "stream"
}, {
    "name": "stdout",
    "text": "1628995 Kevin Knox II\n",
    "output_type": "stream"
}, {
    "name": "stdout",
    "text": "1629723 John Konchar\n",
    "output_type": "stream"
}, {
    "name": "stdout",
    "text": "1627788 Furkan Korkmaz\n",
    "output_type": "stream"
}, {
    "name": "stdout",
    "text": "1628436 Luke Kornet\n",
    "output_type": "stream"
}, {
    "name": "stdout",
    "text": "2594 Kyle Korver\n",
    "output_type": "stream"
}, {
    "name": "stdout",
    "text": "1629066 Rodions Kurucs\n",
    "output_type": "stream"
}, {
    "name": "stdout",
    "text": "1628398 Kyle Kuzma\n",
    "output_type": "stream"
}, {
    "name": "stdout",
    "text": "203897 Zach LaVine\n",
    "output_type": "stream"
}, {
    "name": "stdout",
    "text": "1627746 Skal Labissiere\n",
    "output_type": "stream"
}, {
    "name": "stdout",
    "text": "203087 Jeremy Lamb\n",
    "output_type": "stream"
}, {
    "name": "stdout",
    "text": "1629641 Romeo Langford\n",
    "output_type": "stream"
}, {
    "name": "stdout",
    "text": "1629724 Vic Law\n",
    "output_type": "stream"
}, {
    "name": "stdout",
    "text": "1627774 Jake Layman\n",
    "output_type": "stream"
}, {
    "name": "stdout",
    "text": "1627747 Caris LeVert\n",
    "output_type": "stream"
}, {
    "name": "stdout",
    "text": "1628388 TJ Leaf\n",
    "output_type": "stream"
}, {
    "name": "stdout",
    "text": "1629665 Jalen Lecque\n",
    "output_type": "stream"
}, {
    "name": "stdout",
    "text": "201584 Courtney Lee\n",
    "output_type": "stream"
}, {
    "name": "stdout",
    "text": "1627814 Damion Lee\n",
    "output_type": "stream"
}, {
    "name": "stdout",
    "text": "203458 Alex Len\n",
    "output_type": "stream"
}, {
    "name": "stdout",
    "text": "202695 Kawhi Leonard\n",
    "output_type": "stream"
}, {
    "name": "stdout",
    "text": "203086 Meyers Leonard\n",
    "output_type": "stream"
}, {
    "name": "stdout",
    "text": "203081 Damian Lillard\n",
    "output_type": "stream"
}, {
    "name": "stdout",
    "text": "1629642 Nassir Little\n",
    "output_type": "stream"
}, {
    "name": "stdout",
    "text": "1626172 Kevon Looney\n",
    "output_type": "stream"
}, {
    "name": "stdout",
    "text": "201572 Brook Lopez\n",
    "output_type": "stream"
}, {
    "name": "stdout",
    "text": "201577 Robin Lopez\n",
    "output_type": "stream"
}, {
    "name": "stdout",
    "text": "201567 Kevin Love\n",
    "output_type": "stream"
}, {
    "name": "stdout",
    "text": "200768 Kyle Lowry\n",
    "output_type": "stream"
}, {
    "name": "stdout",
    "text": "1627789 Timothe Luwawu-Cabarrot\n",
    "output_type": "stream"
}, {
    "name": "stdout",
    "text": "1626168 Trey Lyles\n",
    "output_type": "stream"
}, {
    "name": "stdout",
    "text": "101133 Ian Mahinmi\n",
    "output_type": "stream"
}, {
    "name": "stdout",
    "text": "1627748 Thon Maker\n",
    "output_type": "stream"
}, {
    "name": "stdout",
    "text": "1629611 Terance Mann\n",
    "output_type": "stream"
}, {
    "name": "stdout",
    "text": "1626246 Boban Marjanovic\n",
    "output_type": "stream"
}, {
    "name": "stdout",
    "text": "1628374 Lauri Markkanen\n",
    "output_type": "stream"
}, {
    "name": "stdout",
    "text": "1628997 Caleb Martin\n",
    "output_type": "stream"
}, {
    "name": "stdout",
    "text": "1628998 Cody Martin\n",
    "output_type": "stream"
}, {
    "name": "stdout",
    "text": "1629725 Jeremiah Martin\n",
    "output_type": "stream"
}, {
    "name": "stdout",
    "text": "1629103 Kelan Martin\n",
    "output_type": "stream"
}, {
    "name": "stdout",
    "text": "1628412 Frank Mason\n",
    "output_type": "stream"
}, {
    "name": "stdout",
    "text": "1629726 Garrison Mathews\n",
    "output_type": "stream"
}, {
    "name": "stdout",
    "text": "202083 Wesley Matthews\n",
    "output_type": "stream"
}, {
    "name": "stdout",
    "text": "201601 Luc Mbah a Moute\n",
    "output_type": "stream"
}, {
    "name": "stdout",
    "text": "1627775 Patrick McCaw\n",
    "output_type": "stream"
}, {
    "name": "stdout",
    "text": "203468 CJ McCollum\n",
    "output_type": "stream"
}, {
    "name": "stdout",
    "text": "204456 T.J. McConnell\n",
    "output_type": "stream"
}, {
    "name": "stdout",
    "text": "1629667 Jalen McDaniels\n",
    "output_type": "stream"
}, {
    "name": "stdout",
    "text": "203926 Doug McDermott\n",
    "output_type": "stream"
}, {
    "name": "stdout",
    "text": "201580 JaVale McGee\n",
    "output_type": "stream"
}, {
    "name": "stdout",
    "text": "203585 Rodney McGruder\n",
    "output_type": "stream"
}, {
    "name": "stdout",
    "text": "1628035 Alfonzo McKinnie\n",
    "output_type": "stream"
}, {
    "name": "stdout",
    "text": "1629162 Jordan McLaughlin\n",
    "output_type": "stream"
}, {
    "name": "stdout",
    "text": "203463 Ben McLemore\n",
    "output_type": "stream"
}, {
    "name": "stdout",
    "text": "203895 Jordan McRae\n",
    "output_type": "stream"
}, {
    "name": "stdout",
    "text": "1629740 Nicolo Melli\n",
    "output_type": "stream"
}, {
    "name": "stdout",
    "text": "1629001 De'Anthony Melton\n",
    "output_type": "stream"
}, {
    "name": "stdout",
    "text": "1629002 Chimezie Metu\n",
    "output_type": "stream"
}, {
    "name": "stdout",
    "text": "203114 Khris Middleton\n",
    "output_type": "stream"
}, {
    "name": "stdout",
    "text": "203121 Darius Miller\n",
    "output_type": "stream"
}, {
    "name": "stdout",
    "text": "1626259 Malcolm Miller\n",
    "output_type": "stream"
}, {
    "name": "stdout",
    "text": "201988 Patty Mills\n",
    "output_type": "stream"
}, {
    "name": "stdout",
    "text": "200794 Paul Millsap\n",
    "output_type": "stream"
}, {
    "name": "stdout",
    "text": "1629003 Shake Milton\n",
    "output_type": "stream"
}, {
    "name": "stdout",
    "text": "1628378 Donovan Mitchell\n",
    "output_type": "stream"
}, {
    "name": "stdout",
    "text": "1628513 Naz Mitrou-Long\n",
    "output_type": "stream"
}, {
    "name": "stdout",
    "text": "1629690 Adam Mokoka\n",
    "output_type": "stream"
}, {
    "name": "stdout",
    "text": "1628370 Malik Monk\n",
    "output_type": "stream"
}, {
    "name": "stdout",
    "text": "1629760 Matt Mooney\n",
    "output_type": "stream"
}, {
    "name": "stdout",
    "text": "202734 E'Twaun Moore\n",
    "output_type": "stream"
}, {
    "name": "stdout",
    "text": "1629630 Ja Morant\n",
    "output_type": "stream"
}, {
    "name": "stdout",
    "text": "1629752 Juwan Morgan\n",
    "output_type": "stream"
}, {
    "name": "stdout",
    "text": "202693 Markieff Morris\n",
    "output_type": "stream"
}, {
    "name": "stdout",
    "text": "1628420 Monte Morris\n",
    "output_type": "stream"
}, {
    "name": "stdout",
    "text": "202694 Marcus Morris Sr.\n",
    "output_type": "stream"
}, {
    "name": "stdout",
    "text": "1628405 Johnathan Motley\n",
    "output_type": "stream"
}, {
    "name": "stdout",
    "text": "1626144 Emmanuel Mudiay\n",
    "output_type": "stream"
}, {
    "name": "stdout",
    "text": "1628539 Mychal Mulder\n",
    "output_type": "stream"
}, {
    "name": "stdout",
    "text": "1627749 Dejounte Murray\n",
    "output_type": "stream"
}, {
    "name": "stdout",
    "text": "1627750 Jamal Murray\n",
    "output_type": "stream"
}, {
    "name": "stdout",
    "text": "1629058 Dzanan Musa\n",
    "output_type": "stream"
}, {
    "name": "stdout",
    "text": "203488 Mike Muscala\n",
    "output_type": "stream"
}, {
    "name": "stdout",
    "text": "1629004 Svi Mykhailiuk\n",
    "output_type": "stream"
}, {
    "name": "stdout",
    "text": "1627846 Abdel Nader\n",
    "output_type": "stream"
}, {
    "name": "stdout",
    "text": "1626204 Larry Nance Jr.\n",
    "output_type": "stream"
}, {
    "name": "stdout",
    "text": "203894 Shabazz Napier\n",
    "output_type": "stream"
}, {
    "name": "stdout",
    "text": "203526 Raul Neto\n",
    "output_type": "stream"
}, {
    "name": "stdout",
    "text": "1627777 Georges Niang\n",
    "output_type": "stream"
}, {
    "name": "stdout",
    "text": "201149 Joakim Noah\n",
    "output_type": "stream"
}, {
    "name": "stdout",
    "text": "203457 Nerlens Noel\n",
    "output_type": "stream"
}, {
    "name": "stdout",
    "text": "1629669 Jaylen Nowell\n",
    "output_type": "stream"
}, {
    "name": "stdout",
    "text": "1628373 Frank Ntilikina\n",
    "output_type": "stream"
}, {
    "name": "stdout",
    "text": "1629134 Kendrick Nunn\n",
    "output_type": "stream"
}, {
    "name": "stdout",
    "text": "203994 Jusuf Nurkic\n",
    "output_type": "stream"
}, {
    "name": "stdout",
    "text": "1628021 David Nwaba\n",
    "output_type": "stream"
}, {
    "name": "stdout",
    "text": "1626220 Royce O'Neale\n",
    "output_type": "stream"
}, {
    "name": "stdout",
    "text": "203124 Kyle O'Quinn\n",
    "output_type": "stream"
}, {
    "name": "stdout",
    "text": "1628400 Semi Ojeleye\n",
    "output_type": "stream"
}, {
    "name": "stdout",
    "text": "1626143 Jahlil Okafor\n",
    "output_type": "stream"
}, {
    "name": "stdout",
    "text": "1629059 Elie Okobo\n",
    "output_type": "stream"
}, {
    "name": "stdout",
    "text": "1629006 Josh Okogie\n",
    "output_type": "stream"
}, {
    "name": "stdout",
    "text": "1629644 KZ Okpala\n",
    "output_type": "stream"
}, {
    "name": "stdout",
    "text": "203506 Victor Oladipo\n",
    "output_type": "stream"
}, {
    "name": "stdout",
    "text": "203482 Kelly Olynyk\n",
    "output_type": "stream"
}, {
    "name": "stdout",
    "text": "1629671 Miye Oni\n",
    "output_type": "stream"
}, {
    "name": "stdout",
    "text": "1626224 Cedi Osman\n",
    "output_type": "stream"
}, {
    "name": "stdout",
    "text": "1626162 Kelly Oubre Jr.\n",
    "output_type": "stream"
}, {
    "name": "stdout",
    "text": "1629745 Tariq Owens\n",
    "output_type": "stream"
}, {
    "name": "stdout",
    "text": "203953 Jabari Parker\n",
    "output_type": "stream"
}, {
    "name": "stdout",
    "text": "1629672 Eric Paschall\n",
    "output_type": "stream"
}, {
    "name": "stdout",
    "text": "1628394 Anzejs Pasecniks\n",
    "output_type": "stream"
}, {
    "name": "stdout",
    "text": "202335 Patrick Patterson\n",
    "output_type": "stream"
}, {
    "name": "stdout",
    "text": "1628383 Justin Patton\n",
    "output_type": "stream"
}, {
    "name": "stdout",
    "text": "101108 Chris Paul\n",
    "output_type": "stream"
}, {
    "name": "stdout",
    "text": "1626166 Cameron Payne\n",
    "output_type": "stream"
}, {
    "name": "stdout",
    "text": "203901 Elfrid Payton\n",
    "output_type": "stream"
}, {
    "name": "stdout",
    "text": "1627780 Gary Payton II\n",
    "output_type": "stream"
}, {
    "name": "stdout",
    "text": "203658 Norvel Pelle\n",
    "output_type": "stream"
}, {
    "name": "stdout",
    "text": "1629033 Theo Pinson\n",
    "output_type": "stream"
}, {
    "name": "stdout",
    "text": "203486 Mason Plumlee\n",
    "output_type": "stream"
}, {
    "name": "stdout",
    "text": "1627751 Jakob Poeltl\n",
    "output_type": "stream"
}, {
    "name": "stdout",
    "text": "1629738 Vincent Poirier\n",
    "output_type": "stream"
}, {
    "name": "stdout",
    "text": "1629673 Jordan Poole\n",
    "output_type": "stream"
}, {
    "name": "stdout",
    "text": "1629645 Kevin Porter Jr.\n",
    "output_type": "stream"
}, {
    "name": "stdout",
    "text": "1629008 Michael Porter Jr.\n",
    "output_type": "stream"
}, {
    "name": "stdout",
    "text": "203490 Otto Porter Jr.\n",
    "output_type": "stream"
}, {
    "name": "stdout",
    "text": "1626171 Bobby Portis\n",
    "output_type": "stream"
}, {
    "name": "stdout",
    "text": "204001 Kristaps Porzingis\n",
    "output_type": "stream"
}, {
    "name": "stdout",
    "text": "203939 Dwight Powell\n",
    "output_type": "stream"
}, {
    "name": "stdout",
    "text": "1626181 Norman Powell\n",
    "output_type": "stream"
}, {
    "name": "stdout",
    "text": "1627752 Taurean Prince\n",
    "output_type": "stream"
}, {
    "name": "stdout",
    "text": "203944 Julius Randle\n",
    "output_type": "stream"
}, {
    "name": "stdout",
    "text": "1629729 Josh Reaves\n",
    "output_type": "stream"
}, {
    "name": "stdout",
    "text": "1629629 Cam Reddish\n",
    "output_type": "stream"
}, {
    "name": "stdout",
    "text": "200755 JJ Redick\n",
    "output_type": "stream"
}, {
    "name": "stdout",
    "text": "1629675 Naz Reid\n",
    "output_type": "stream"
}, {
    "name": "stdout",
    "text": "1629244 Cameron Reynolds\n",
    "output_type": "stream"
}, {
    "name": "stdout",
    "text": "1626196 Josh Richardson\n",
    "output_type": "stream"
}, {
    "name": "stdout",
    "text": "203085 Austin Rivers\n",
    "output_type": "stream"
}, {
    "name": "stdout",
    "text": "203460 Andre Roberson\n",
    "output_type": "stream"
}, {
    "name": "stdout",
    "text": "1629130 Duncan Robinson\n",
    "output_type": "stream"
}, {
    "name": "stdout",
    "text": "1629010 Jerome Robinson\n",
    "output_type": "stream"
}, {
    "name": "stdout",
    "text": "1629011 Mitchell Robinson\n",
    "output_type": "stream"
}, {
    "name": "stdout",
    "text": "203922 Glenn Robinson III\n",
    "output_type": "stream"
}, {
    "name": "stdout",
    "text": "1629676 Isaiah Roby\n",
    "output_type": "stream"
}, {
    "name": "stdout",
    "text": "200765 Rajon Rondo\n",
    "output_type": "stream"
}, {
    "name": "stdout",
    "text": "201565 Derrick Rose\n",
    "output_type": "stream"
}, {
    "name": "stdout",
    "text": "203082 Terrence Ross\n",
    "output_type": "stream"
}, {
    "name": "stdout",
    "text": "1626179 Terry Rozier\n",
    "output_type": "stream"
}, {
    "name": "stdout",
    "text": "201937 Ricky Rubio\n",
    "output_type": "stream"
}, {
    "name": "stdout",
    "text": "1626156 D'Angelo Russell\n",
    "output_type": "stream"
}, {
    "name": "stdout",
    "text": "1627734 Domantas Sabonis\n",
    "output_type": "stream"
}, {
    "name": "stdout",
    "text": "1629677 Luka Samanic\n",
    "output_type": "stream"
}, {
    "name": "stdout",
    "text": "203960 JaKarr Sampson\n",
    "output_type": "stream"
}, {
    "name": "stdout",
    "text": "203967 Dario Saric\n",
    "output_type": "stream"
}, {
    "name": "stdout",
    "text": "203107 Tomas Satoransky\n",
    "output_type": "stream"
}, {
    "name": "stdout",
    "text": "1629678 Admiral Schofield\n",
    "output_type": "stream"
}, {
    "name": "stdout",
    "text": "203471 Dennis Schroder\n",
    "output_type": "stream"
}, {
    "name": "stdout",
    "text": "203118 Mike Scott\n",
    "output_type": "stream"
}, {
    "name": "stdout",
    "text": "200757 Thabo Sefolosha\n",
    "output_type": "stream"
}, {
    "name": "stdout",
    "text": "1629012 Collin Sexton\n",
    "output_type": "stream"
}, {
    "name": "stdout",
    "text": "1629013 Landry Shamet\n",
    "output_type": "stream"
}, {
    "name": "stdout",
    "text": "1629621 Marial Shayok\n",
    "output_type": "stream"
}, {
    "name": "stdout",
    "text": "1627783 Pascal Siakam\n",
    "output_type": "stream"
}, {
    "name": "stdout",
    "text": "1629735 Chris Silva\n",
    "output_type": "stream"
}, {
    "name": "stdout",
    "text": "1627732 Ben Simmons\n",
    "output_type": "stream"
}, {
    "name": "stdout",
    "text": "1628424 Kobi Simmons\n",
    "output_type": "stream"
}, {
    "name": "stdout",
    "text": "1629014 Anfernee Simons\n",
    "output_type": "stream"
}, {
    "name": "stdout",
    "text": "1629346 Alen Smailagic\n",
    "output_type": "stream"
}, {
    "name": "stdout",
    "text": "203935 Marcus Smart\n",
    "output_type": "stream"
}, {
    "name": "stdout",
    "text": "202397 Ish Smith\n",
    "output_type": "stream"
}, {
    "name": "stdout",
    "text": "2747 JR Smith\n",
    "output_type": "stream"
}, {
    "name": "stdout",
    "text": "1629015 Zhaire Smith\n",
    "output_type": "stream"
}, {
    "name": "stdout",
    "text": "1628372 Dennis Smith Jr.\n",
    "output_type": "stream"
}, {
    "name": "stdout",
    "text": "203503 Tony Snell\n",
    "output_type": "stream"
}, {
    "name": "stdout",
    "text": "1629034 Ray Spalding\n",
    "output_type": "stream"
}, {
    "name": "stdout",
    "text": "1629016 Omari Spellman\n",
    "output_type": "stream"
}, {
    "name": "stdout",
    "text": "1629622 Max Strus\n",
    "output_type": "stream"
}, {
    "name": "stdout",
    "text": "1628410 Edmond Sumner\n",
    "output_type": "stream"
}, {
    "name": "stdout",
    "text": "1628403 Caleb Swanigan\n",
    "output_type": "stream"
}, {
    "name": "stdout",
    "text": "1628369 Jayson Tatum\n",
    "output_type": "stream"
}, {
    "name": "stdout",
    "text": "201952 Jeff Teague\n",
    "output_type": "stream"
}, {
    "name": "stdout",
    "text": "202066 Garrett Temple\n",
    "output_type": "stream"
}, {
    "name": "stdout",
    "text": "1628464 Daniel Theis\n",
    "output_type": "stream"
}, {
    "name": "stdout",
    "text": "1629017 Khyri Thomas\n",
    "output_type": "stream"
}, {
    "name": "stdout",
    "text": "202498 Lance Thomas\n",
    "output_type": "stream"
}, {
    "name": "stdout",
    "text": "1629744 Matt Thomas\n",
    "output_type": "stream"
}, {
    "name": "stdout",
    "text": "202691 Klay Thompson\n",
    "output_type": "stream"
}, {
    "name": "stdout",
    "text": "202684 Tristan Thompson\n",
    "output_type": "stream"
}, {
    "name": "stdout",
    "text": "1628414 Sindarius Thornwell\n",
    "output_type": "stream"
}, {
    "name": "stdout",
    "text": "1629680 Matisse Thybulle\n",
    "output_type": "stream"
}, {
    "name": "stdout",
    "text": "201229 Anthony Tolliver\n",
    "output_type": "stream"
}, {
    "name": "stdout",
    "text": "1629308 Juan Toscano-Anderson\n",
    "output_type": "stream"
}, {
    "name": "stdout",
    "text": "1626157 Karl-Anthony Towns\n",
    "output_type": "stream"
}, {
    "name": "stdout",
    "text": "1629018 Gary Trent Jr.\n",
    "output_type": "stream"
}, {
    "name": "stdout",
    "text": "200782 P.J. Tucker\n",
    "output_type": "stream"
}, {
    "name": "stdout",
    "text": "1629730 Rayjon Tucker\n",
    "output_type": "stream"
}, {
    "name": "stdout",
    "text": "202323 Evan Turner\n",
    "output_type": "stream"
}, {
    "name": "stdout",
    "text": "1626167 Myles Turner\n",
    "output_type": "stream"
}, {
    "name": "stdout",
    "text": "1627784 Jarrod Uthoff\n",
    "output_type": "stream"
}, {
    "name": "stdout",
    "text": "202685 Jonas Valanciunas\n",
    "output_type": "stream"
}, {
    "name": "stdout",
    "text": "1627756 Denzel Valentine\n",
    "output_type": "stream"
}, {
    "name": "stdout",
    "text": "1627832 Fred VanVleet\n",
    "output_type": "stream"
}, {
    "name": "stdout",
    "text": "1629020 Jarred Vanderbilt\n",
    "output_type": "stream"
}, {
    "name": "stdout",
    "text": "1629216 Gabe Vincent\n",
    "output_type": "stream"
}, {
    "name": "stdout",
    "text": "203943 Noah Vonleh\n",
    "output_type": "stream"
}, {
    "name": "stdout",
    "text": "202696 Nikola Vucevic\n",
    "output_type": "stream"
}, {
    "name": "stdout",
    "text": "1629731 Dean Wade\n",
    "output_type": "stream"
}, {
    "name": "stdout",
    "text": "1629021 Moritz Wagner\n",
    "output_type": "stream"
}, {
    "name": "stdout",
    "text": "203079 Dion Waiters\n",
    "output_type": "stream"
}, {
    "name": "stdout",
    "text": "202689 Kemba Walker\n",
    "output_type": "stream"
}, {
    "name": "stdout",
    "text": "1629022 Lonnie Walker IV\n",
    "output_type": "stream"
}, {
    "name": "stdout",
    "text": "202322 John Wall\n",
    "output_type": "stream"
}, {
    "name": "stdout",
    "text": "202954 Brad Wanamaker\n",
    "output_type": "stream"
}, {
    "name": "stdout",
    "text": "203933 T.J. Warren\n",
    "output_type": "stream"
}, {
    "name": "stdout",
    "text": "1629023 P.J. Washington\n",
    "output_type": "stream"
}, {
    "name": "stdout",
    "text": "1629139 Yuta Watanabe\n",
    "output_type": "stream"
}, {
    "name": "stdout",
    "text": "1629682 Tremont Waters\n",
    "output_type": "stream"
}, {
    "name": "stdout",
    "text": "1628778 Paul Watson\n",
    "output_type": "stream"
}, {
    "name": "stdout",
    "text": "1629683 Quinndary Weatherspoon\n",
    "output_type": "stream"
}, {
    "name": "stdout",
    "text": "201566 Russell Westbrook\n",
    "output_type": "stream"
}, {
    "name": "stdout",
    "text": "1629632 Coby White\n",
    "output_type": "stream"
}, {
    "name": "stdout",
    "text": "1628401 Derrick White\n",
    "output_type": "stream"
}, {
    "name": "stdout",
    "text": "202355 Hassan Whiteside\n",
    "output_type": "stream"
}, {
    "name": "stdout",
    "text": "203952 Andrew Wiggins\n",
    "output_type": "stream"
}, {
    "name": "stdout",
    "text": "1629684 Grant Williams\n",
    "output_type": "stream"
}, {
    "name": "stdout",
    "text": "1629140 Johnathan Williams\n",
    "output_type": "stream"
}, {
    "name": "stdout",
    "text": "1629026 Kenrich Williams\n",
    "output_type": "stream"
}, {
    "name": "stdout",
    "text": "101150 Lou Williams\n",
    "output_type": "stream"
}, {
    "name": "stdout",
    "text": "101107 Marvin Williams\n",
    "output_type": "stream"
}, {
    "name": "stdout",
    "text": "1629057 Robert Williams III\n",
    "output_type": "stream"
}, {
    "name": "stdout",
    "text": "1628430 Nigel Williams-Goss\n",
    "output_type": "stream"
}, {
    "name": "stdout",
    "text": "1629627 Zion Williamson\n",
    "output_type": "stream"
}, {
    "name": "stdout",
    "text": "1628391 D.J. Wilson\n",
    "output_type": "stream"
}, {
    "name": "stdout",
    "text": "1626159 Justise Winslow\n",
    "output_type": "stream"
}, {
    "name": "stdout",
    "text": "1626174 Christian Wood\n",
    "output_type": "stream"
}, {
    "name": "stdout",
    "text": "1626153 Delon Wright\n",
    "output_type": "stream"
}, {
    "name": "stdout",
    "text": "1629625 Justin Wright-Foreman\n",
    "output_type": "stream"
}, {
    "name": "stdout",
    "text": "201152 Thaddeus Young\n",
    "output_type": "stream"
}, {
    "name": "stdout",
    "text": "1629027 Trae Young\n",
    "output_type": "stream"
}, {
    "name": "stdout",
    "text": "203469 Cody Zeller\n",
    "output_type": "stream"
}, {
    "name": "stdout",
    "text": "203092 Tyler Zeller\n",
    "output_type": "stream"
}, {
    "name": "stdout",
    "text": "1627790 Ante Zizic\n",
    "output_type": "stream"
}, {
    "name": "stdout",
    "text": "1627826 Ivica Zubac\n",
    "output_type": "stream"
}, {
    "name": "stdout",
    "text": "Season 2011-12\n1629121 Jaylen Adams\n",
    "output_type": "stream"
}, {
    "name": "stdout",
    "text": "203500 Steven Adams\n",
    "output_type": "stream"
}, {
    "name": "stdout",
    "text": "1628389 Bam Adebayo\n",
    "output_type": "stream"
}, {
    "name": "stdout",
    "text": "200746 LaMarcus Aldridge\n",
    "output_type": "stream"
}, {
    "name": "stdout",
    "text": "1629734 Kyle Alexander\n",
    "output_type": "stream"
}, {
    "name": "stdout",
    "text": "1629638 Nickeil Alexander-Walker\n",
    "output_type": "stream"
}, {
    "name": "stdout",
    "text": "1628960 Grayson Allen\n",
    "output_type": "stream"
}, {
    "name": "stdout",
    "text": "1628386 Jarrett Allen\n",
    "output_type": "stream"
}, {
    "name": "stdout",
    "text": "202329 Al-Farouq Aminu\n",
    "output_type": "stream"
}, {
    "name": "stdout",
    "text": "1626147 Justin Anderson\n",
    "output_type": "stream"
}, {
    "name": "stdout",
    "text": "203937 Kyle Anderson\n",
    "output_type": "stream"
}, {
    "name": "stdout",
    "text": "203507 Giannis Antetokounmpo\n",
    "output_type": "stream"
}, {
    "name": "stdout",
    "text": "1628961 Kostas Antetokounmpo\n",
    "output_type": "stream"
}, {
    "name": "stdout",
    "text": "203648 Thanasis Antetokounmpo\n",
    "output_type": "stream"
}, {
    "name": "stdout",
    "text": "2546 Carmelo Anthony\n",
    "output_type": "stream"
}, {
    "name": "stdout",
    "text": "1628384 OG Anunoby\n",
    "output_type": "stream"
}, {
    "name": "stdout",
    "text": "1627853 Ryan Arcidiacono\n",
    "output_type": "stream"
}, {
    "name": "stdout",
    "text": "2772 Trevor Ariza\n",
    "output_type": "stream"
}, {
    "name": "stdout",
    "text": "201571 D.J. Augustin\n",
    "output_type": "stream"
}, {
    "name": "stdout",
    "text": "1629028 Deandre Ayton\n",
    "output_type": "stream"
}, {
    "name": "stdout",
    "text": "1628407 Dwayne Bacon\n",
    "output_type": "stream"
}, {
    "name": "stdout",
    "text": "1628963 Marvin Bagley III\n",
    "output_type": "stream"
}, {
    "name": "stdout",
    "text": "1628366 Lonzo Ball\n",
    "output_type": "stream"
}, {
    "name": "stdout",
    "text": "1628964 Mo Bamba\n",
    "output_type": "stream"
}, {
    "name": "stdout",
    "text": "200826 J.J. Barea\n",
    "output_type": "stream"
}, {
    "name": "stdout",
    "text": "203084 Harrison Barnes\n",
    "output_type": "stream"
}, {
    "name": "stdout",
    "text": "1629628 RJ Barrett\n",
    "output_type": "stream"
}, {
    "name": "stdout",
    "text": "203115 Will Barton\n",
    "output_type": "stream"
}, {
    "name": "stdout",
    "text": "1628966 Keita Bates-Diop\n",
    "output_type": "stream"
}, {
    "name": "stdout",
    "text": "201587 Nicolas Batum\n",
    "output_type": "stream"
}, {
    "name": "stdout",
    "text": "203382 Aron Baynes\n",
    "output_type": "stream"
}, {
    "name": "stdout",
    "text": "203145 Kent Bazemore\n",
    "output_type": "stream"
}, {
    "name": "stdout",
    "text": "1629647 Darius Bazley\n",
    "output_type": "stream"
}, {
    "name": "stdout",
    "text": "203078 Bradley Beal\n",
    "output_type": "stream"
}, {
    "name": "stdout",
    "text": "1627736 Malik Beasley\n",
    "output_type": "stream"
}, {
    "name": "stdout",
    "text": "201158 Marco Belinelli\n",
    "output_type": "stream"
}, {
    "name": "stdout",
    "text": "1628395 Jordan Bell\n",
    "output_type": "stream"
}, {
    "name": "stdout",
    "text": "1627761 DeAndre' Bembry\n",
    "output_type": "stream"
}, {
    "name": "stdout",
    "text": "202722 Davis Bertans\n",
    "output_type": "stream"
}, {
    "name": "stdout",
    "text": "201976 Patrick Beverley\n",
    "output_type": "stream"
}, {
    "name": "stdout",
    "text": "203920 Khem Birch\n",
    "output_type": "stream"
}, {
    "name": "stdout",
    "text": "1629048 Goga Bitadze\n",
    "output_type": "stream"
}, {
    "name": "stdout",
    "text": "202687 Bismack Biyombo\n",
    "output_type": "stream"
}, {
    "name": "stdout",
    "text": "202357 Nemanja Bjelica\n",
    "output_type": "stream"
}, {
    "name": "stdout",
    "text": "202339 Eric Bledsoe\n",
    "output_type": "stream"
}, {
    "name": "stdout",
    "text": "203992 Bogdan Bogdanovic\n",
    "output_type": "stream"
}, {
    "name": "stdout",
    "text": "202711 Bojan Bogdanovic\n",
    "output_type": "stream"
}, {
    "name": "stdout",
    "text": "1629626 Bol Bol\n",
    "output_type": "stream"
}, {
    "name": "stdout",
    "text": "1629648 Jordan Bone\n",
    "output_type": "stream"
}, {
    "name": "stdout",
    "text": "1629067 Isaac Bonga\n",
    "output_type": "stream"
}, {
    "name": "stdout",
    "text": "1626164 Devin Booker\n",
    "output_type": "stream"
}, {
    "name": "stdout",
    "text": "1628449 Chris Boucher\n",
    "output_type": "stream"
}, {
    "name": "stdout",
    "text": "1628968 Brian Bowen II\n",
    "output_type": "stream"
}, {
    "name": "stdout",
    "text": "1629065 Ky Bowman\n",
    "output_type": "stream"
}, {
    "name": "stdout",
    "text": "202340 Avery Bradley\n",
    "output_type": "stream"
}, {
    "name": "stdout",
    "text": "1628396 Tony Bradley\n",
    "output_type": "stream"
}, {
    "name": "stdout",
    "text": "1629714 Jarrell Brantley\n",
    "output_type": "stream"
}, {
    "name": "stdout",
    "text": "1629649 Ignas Brazdeikis\n",
    "output_type": "stream"
}, {
    "name": "stdout",
    "text": "201147 Corey Brewer\n",
    "output_type": "stream"
}, {
    "name": "stdout",
    "text": "1628969 Mikal Bridges\n",
    "output_type": "stream"
}, {
    "name": "stdout",
    "text": "1628970 Miles Bridges\n",
    "output_type": "stream"
}, {
    "name": "stdout",
    "text": "1629052 Oshae Brissett\n",
    "output_type": "stream"
}, {
    "name": "stdout",
    "text": "1629151 Ryan Broekhoff\n",
    "output_type": "stream"
}, {
    "name": "stdout",
    "text": "1627763 Malcolm Brogdon\n",
    "output_type": "stream"
}, {
    "name": "stdout",
    "text": "1628415 Dillon Brooks\n",
    "output_type": "stream"
}, {
    "name": "stdout",
    "text": "1628971 Bruce Brown\n",
    "output_type": "stream"
}, {
    "name": "stdout",
    "text": "1627759 Jaylen Brown\n",
    "output_type": "stream"
}, {
    "name": "stdout",
    "text": "1629650 Moses Brown\n",
    "output_type": "stream"
}, {
    "name": "stdout",
    "text": "1628425 Sterling Brown\n",
    "output_type": "stream"
}, {
    "name": "stdout",
    "text": "1629718 Charles Brown Jr.\n",
    "output_type": "stream"
}, {
    "name": "stdout",
    "text": "1628972 Troy Brown Jr.\n",
    "output_type": "stream"
}, {
    "name": "stdout",
    "text": "1628973 Jalen Brunson\n",
    "output_type": "stream"
}, {
    "name": "stdout",
    "text": "1628418 Thomas Bryant\n",
    "output_type": "stream"
}, {
    "name": "stdout",
    "text": "203493 Reggie Bullock\n",
    "output_type": "stream"
}, {
    "name": "stdout",
    "text": "203504 Trey Burke\n",
    "output_type": "stream"
}, {
    "name": "stdout",
    "text": "202692 Alec Burks\n",
    "output_type": "stream"
}, {
    "name": "stdout",
    "text": "1629126 Deonte Burton\n",
    "output_type": "stream"
}, {
    "name": "stdout",
    "text": "202710 Jimmy Butler\n",
    "output_type": "stream"
}, {
    "name": "stdout",
    "text": "203998 Bruno Caboclo\n",
    "output_type": "stream"
}, {
    "name": "stdout",
    "text": "1629719 Devontae Cacok\n",
    "output_type": "stream"
}, {
    "name": "stdout",
    "text": "203484 Kentavious Caldwell-Pope\n",
    "output_type": "stream"
}, {
    "name": "stdout",
    "text": "1628427 Vlatko Cancar\n",
    "output_type": "stream"
}, {
    "name": "stdout",
    "text": "203991 Clint Capela\n",
    "output_type": "stream"
}, {
    "name": "stdout",
    "text": "201960 DeMarre Carroll\n",
    "output_type": "stream"
}, {
    "name": "stdout",
    "text": "1628975 Jevon Carter\n",
    "output_type": "stream"
}, {
    "name": "stdout",
    "text": "1713 Vince Carter\n",
    "output_type": "stream"
}, {
    "name": "stdout",
    "text": "1628976 Wendell Carter Jr.\n",
    "output_type": "stream"
}, {
    "name": "stdout",
    "text": "203487 Michael Carter-Williams\n",
    "output_type": "stream"
}, {
    "name": "stdout",
    "text": "1627936 Alex Caruso\n",
    "output_type": "stream"
}, {
    "name": "stdout",
    "text": "1626161 Willie Cauley-Stein\n",
    "output_type": "stream"
}, {
    "name": "stdout",
    "text": "2199 Tyson Chandler\n",
    "output_type": "stream"
}, {
    "name": "stdout",
    "text": "201163 Wilson Chandler\n",
    "output_type": "stream"
}, {
    "name": "stdout",
    "text": "1629597 Zylan Cheatham\n",
    "output_type": "stream"
}, {
    "name": "stdout",
    "text": "1629185 Chris Chiozza\n",
    "output_type": "stream"
}, {
    "name": "stdout",
    "text": "1627737 Marquese Chriss\n",
    "output_type": "stream"
}, {
    "name": "stdout",
    "text": "1629109 Gary Clark\n",
    "output_type": "stream"
}, {
    "name": "stdout",
    "text": "1629634 Brandon Clarke\n",
    "output_type": "stream"
}, {
    "name": "stdout",
    "text": "203903 Jordan Clarkson\n",
    "output_type": "stream"
}, {
    "name": "stdout",
    "text": "1629651 Nicolas Claxton\n",
    "output_type": "stream"
}, {
    "name": "stdout",
    "text": "1629598 Chris Clemons\n",
    "output_type": "stream"
}, {
    "name": "stdout",
    "text": "1628499 Antonius Cleveland\n",
    "output_type": "stream"
}, {
    "name": "stdout",
    "text": "1629599 Amir Coffey\n",
    "output_type": "stream"
}, {
    "name": "stdout",
    "text": "1628381 John Collins\n",
    "output_type": "stream"
}, {
    "name": "stdout",
    "text": "1628380 Zach Collins\n",
    "output_type": "stream"
}, {
    "name": "stdout",
    "text": "201144 Mike Conley\n",
    "output_type": "stream"
}, {
    "name": "stdout",
    "text": "1626192 Pat Connaughton\n",
    "output_type": "stream"
}, {
    "name": "stdout",
    "text": "1626188 Quinn Cook\n",
    "output_type": "stream"
}, {
    "name": "stdout",
    "text": "1629076 Tyler Cook\n",
    "output_type": "stream"
}, {
    "name": "stdout",
    "text": "203496 Robert Covington\n",
    "output_type": "stream"
}, {
    "name": "stdout",
    "text": "1628470 Torrey Craig\n",
    "output_type": "stream"
}, {
    "name": "stdout",
    "text": "2037 Jamal Crawford\n",
    "output_type": "stream"
}, {
    "name": "stdout",
    "text": "203109 Jae Crowder\n",
    "output_type": "stream"
}, {
    "name": "stdout",
    "text": "1629633 Jarrett Culver\n",
    "output_type": "stream"
}, {
    "name": "stdout",
    "text": "203552 Seth Curry\n",
    "output_type": "stream"
}, {
    "name": "stdout",
    "text": "201939 Stephen Curry\n",
    "output_type": "stream"
}, {
    "name": "stdout",
    "text": "203584 Troy Daniels\n",
    "output_type": "stream"
}, {
    "name": "stdout",
    "text": "203076 Anthony Davis\n",
    "output_type": "stream"
}, {
    "name": "stdout",
    "text": "202334 Ed Davis\n",
    "output_type": "stream"
}, {
    "name": "stdout",
    "text": "1629056 Terence Davis\n",
    "output_type": "stream"
}, {
    "name": "stdout",
    "text": "201942 DeMar DeRozan\n",
    "output_type": "stream"
}, {
    "name": "stdout",
    "text": "203473 Dewayne Dedmon\n",
    "output_type": "stream"
}, {
    "name": "stdout",
    "text": "203521 Matthew Dellavedova\n",
    "output_type": "stream"
}, {
    "name": "stdout",
    "text": "1628978 Donte DiVincenzo\n",
    "output_type": "stream"
}, {
    "name": "stdout",
    "text": "1627767 Cheick Diallo\n",
    "output_type": "stream"
}, {
    "name": "stdout",
    "text": "1628977 Hamidou Diallo\n",
    "output_type": "stream"
}, {
    "name": "stdout",
    "text": "203476 Gorgui Dieng\n",
    "output_type": "stream"
}, {
    "name": "stdout",
    "text": "203915 Spencer Dinwiddie\n",
    "output_type": "stream"
}, {
    "name": "stdout",
    "text": "1629029 Luka Doncic\n",
    "output_type": "stream"
}, {
    "name": "stdout",
    "text": "1629652 Luguentz Dort\n",
    "output_type": "stream"
}, {
    "name": "stdout",
    "text": "1628422 Damyean Dotson\n",
    "output_type": "stream"
}, {
    "name": "stdout",
    "text": "1629635 Sekou Doumbouya\n",
    "output_type": "stream"
}, {
    "name": "stdout",
    "text": "1628408 PJ Dozier\n",
    "output_type": "stream"
}, {
    "name": "stdout",
    "text": "201609 Goran Dragic\n",
    "output_type": "stream"
}, {
    "name": "stdout",
    "text": "203083 Andre Drummond\n",
    "output_type": "stream"
}, {
    "name": "stdout",
    "text": "201162 Jared Dudley\n",
    "output_type": "stream"
}, {
    "name": "stdout",
    "text": "1627739 Kris Dunn\n",
    "output_type": "stream"
}, {
    "name": "stdout",
    "text": "201142 Kevin Durant\n",
    "output_type": "stream"
}, {
    "name": "stdout",
    "text": "1629035 Carsen Edwards\n",
    "output_type": "stream"
}, {
    "name": "stdout",
    "text": "201961 Wayne Ellington\n",
    "output_type": "stream"
}, {
    "name": "stdout",
    "text": "203954 Joel Embiid\n",
    "output_type": "stream"
}, {
    "name": "stdout",
    "text": "203516 James Ennis III\n",
    "output_type": "stream"
}, {
    "name": "stdout",
    "text": "1629234 Drew Eubanks\n",
    "output_type": "stream"
}, {
    "name": "stdout",
    "text": "1628980 Jacob Evans\n",
    "output_type": "stream"
}, {
    "name": "stdout",
    "text": "203957 Dante Exum\n",
    "output_type": "stream"
}, {
    "name": "stdout",
    "text": "1629605 Tacko Fall\n",
    "output_type": "stream"
}, {
    "name": "stdout",
    "text": "202324 Derrick Favors\n",
    "output_type": "stream"
}, {
    "name": "stdout",
    "text": "1626245 Cristiano Felicio\n",
    "output_type": "stream"
}, {
    "name": "stdout",
    "text": "1628390 Terrance Ferguson\n",
    "output_type": "stream"
}, {
    "name": "stdout",
    "text": "1628981 Bruno Fernando\n",
    "output_type": "stream"
}, {
    "name": "stdout",
    "text": "1627812 Yogi Ferrell\n",
    "output_type": "stream"
}, {
    "name": "stdout",
    "text": "1627827 Dorian Finney-Smith\n",
    "output_type": "stream"
}, {
    "name": "stdout",
    "text": "1627854 Bryn Forbes\n",
    "output_type": "stream"
}, {
    "name": "stdout",
    "text": "203095 Evan Fournier\n",
    "output_type": "stream"
}, {
    "name": "stdout",
    "text": "1628368 De'Aaron Fox\n",
    "output_type": "stream"
}, {
    "name": "stdout",
    "text": "1626187 Michael Frazier\n",
    "output_type": "stream"
}, {
    "name": "stdout",
    "text": "1628982 Melvin Frazier Jr.\n",
    "output_type": "stream"
}, {
    "name": "stdout",
    "text": "1628365 Markelle Fultz\n",
    "output_type": "stream"
}, {
    "name": "stdout",
    "text": "1629117 Wenyen Gabriel\n",
    "output_type": "stream"
}, {
    "name": "stdout",
    "text": "1629655 Daniel Gafford\n",
    "output_type": "stream"
}, {
    "name": "stdout",
    "text": "201568 Danilo Gallinari\n",
    "output_type": "stream"
}, {
    "name": "stdout",
    "text": "204038 Langston Galloway\n",
    "output_type": "stream"
}, {
    "name": "stdout",
    "text": "1629636 Darius Garland\n",
    "output_type": "stream"
}, {
    "name": "stdout",
    "text": "201188 Marc Gasol\n",
    "output_type": "stream"
}, {
    "name": "stdout",
    "text": "200752 Rudy Gay\n",
    "output_type": "stream"
}, {
    "name": "stdout",
    "text": "202331 Paul George\n",
    "output_type": "stream"
}, {
    "name": "stdout",
    "text": "201959 Taj Gibson\n",
    "output_type": "stream"
}, {
    "name": "stdout",
    "text": "1628385 Harry Giles III\n",
    "output_type": "stream"
}, {
    "name": "stdout",
    "text": "1628983 Shai Gilgeous-Alexander\n",
    "output_type": "stream"
}, {
    "name": "stdout",
    "text": "203497 Rudy Gobert\n",
    "output_type": "stream"
}, {
    "name": "stdout",
    "text": "1629164 Brandon Goodwin\n",
    "output_type": "stream"
}, {
    "name": "stdout",
    "text": "203932 Aaron Gordon\n",
    "output_type": "stream"
}, {
    "name": "stdout",
    "text": "201569 Eric Gordon\n",
    "output_type": "stream"
}, {
    "name": "stdout",
    "text": "1628984 Devonte' Graham\n",
    "output_type": "stream"
}, {
    "name": "stdout",
    "text": "1626203 Treveon Graham\n",
    "output_type": "stream"
}, {
    "name": "stdout",
    "text": "203924 Jerami Grant\n",
    "output_type": "stream"
}, {
    "name": "stdout",
    "text": "1626170 Jerian Grant\n",
    "output_type": "stream"
}, {
    "name": "stdout",
    "text": "1627982 Josh Gray\n",
    "output_type": "stream"
}, {
    "name": "stdout",
    "text": "201980 Danny Green\n",
    "output_type": "stream"
}, {
    "name": "stdout",
    "text": "203110 Draymond Green\n",
    "output_type": "stream"
}, {
    "name": "stdout",
    "text": "203210 JaMychal Green\n",
    "output_type": "stream"
}, {
    "name": "stdout",
    "text": "1629750 Javonte Green\n",
    "output_type": "stream"
}, {
    "name": "stdout",
    "text": "201145 Jeff Green\n",
    "output_type": "stream"
}, {
    "name": "stdout",
    "text": "201933 Blake Griffin\n",
    "output_type": "stream"
}, {
    "name": "stdout",
    "text": "1629741 Marko Guduric\n",
    "output_type": "stream"
}, {
    "name": "stdout",
    "text": "1629657 Kyle Guy\n",
    "output_type": "stream"
}, {
    "name": "stdout",
    "text": "1629060 Rui Hachimura\n",
    "output_type": "stream"
}, {
    "name": "stdout",
    "text": "1628985 Devon Hall\n",
    "output_type": "stream"
}, {
    "name": "stdout",
    "text": "1629743 Donta Hall\n",
    "output_type": "stream"
}, {
    "name": "stdout",
    "text": "203501 Tim Hardaway Jr.\n",
    "output_type": "stream"
}, {
    "name": "stdout",
    "text": "201935 James Harden\n",
    "output_type": "stream"
}, {
    "name": "stdout",
    "text": "203090 Maurice Harkless\n",
    "output_type": "stream"
}, {
    "name": "stdout",
    "text": "1629607 Jared Harper\n",
    "output_type": "stream"
}, {
    "name": "stdout",
    "text": "1626149 Montrezl Harrell\n",
    "output_type": "stream"
}, {
    "name": "stdout",
    "text": "203914 Gary Harris\n",
    "output_type": "stream"
}, {
    "name": "stdout",
    "text": "203925 Joe Harris\n",
    "output_type": "stream"
}, {
    "name": "stdout",
    "text": "202699 Tobias Harris\n",
    "output_type": "stream"
}, {
    "name": "stdout",
    "text": "1627885 Shaquille Harrison\n",
    "output_type": "stream"
}, {
    "name": "stdout",
    "text": "1628404 Josh Hart\n",
    "output_type": "stream"
}, {
    "name": "stdout",
    "text": "2617 Udonis Haslem\n",
    "output_type": "stream"
}, {
    "name": "stdout",
    "text": "1629637 Jaxson Hayes\n",
    "output_type": "stream"
}, {
    "name": "stdout",
    "text": "202330 Gordon Hayward\n",
    "output_type": "stream"
}, {
    "name": "stdout",
    "text": "203089 John Henson\n",
    "output_type": "stream"
}, {
    "name": "stdout",
    "text": "1629608 Dewan Hernandez\n",
    "output_type": "stream"
}, {
    "name": "stdout",
    "text": "1627823 Juancho Hernangomez\n",
    "output_type": "stream"
}, {
    "name": "stdout",
    "text": "1626195 Willy Hernangomez\n",
    "output_type": "stream"
}, {
    "name": "stdout",
    "text": "1629639 Tyler Herro\n",
    "output_type": "stream"
}, {
    "name": "stdout",
    "text": "1628987 Kevin Hervey\n",
    "output_type": "stream"
}, {
    "name": "stdout",
    "text": "1626209 Mario Hezonja\n",
    "output_type": "stream"
}, {
    "name": "stdout",
    "text": "1627741 Buddy Hield\n",
    "output_type": "stream"
}, {
    "name": "stdout",
    "text": "201588 George Hill\n",
    "output_type": "stream"
}, {
    "name": "stdout",
    "text": "203524 Solomon Hill\n",
    "output_type": "stream"
}, {
    "name": "stdout",
    "text": "1629658 Jaylen Hoard\n",
    "output_type": "stream"
}, {
    "name": "stdout",
    "text": "1628988 Aaron Holiday\n",
    "output_type": "stream"
}, {
    "name": "stdout",
    "text": "201950 Jrue Holiday\n",
    "output_type": "stream"
}, {
    "name": "stdout",
    "text": "203200 Justin Holiday\n",
    "output_type": "stream"
}, {
    "name": "stdout",
    "text": "1626178 Rondae Hollis-Jefferson\n",
    "output_type": "stream"
}, {
    "name": "stdout",
    "text": "1626158 Richaun Holmes\n",
    "output_type": "stream"
}, {
    "name": "stdout",
    "text": "203918 Rodney Hood\n",
    "output_type": "stream"
}, {
    "name": "stdout",
    "text": "201143 Al Horford\n",
    "output_type": "stream"
}, {
    "name": "stdout",
    "text": "1629659 Talen Horton-Tucker\n",
    "output_type": "stream"
}, {
    "name": "stdout",
    "text": "1627863 Danuel House Jr.\n",
    "output_type": "stream"
}, {
    "name": "stdout",
    "text": "2730 Dwight Howard\n",
    "output_type": "stream"
}, {
    "name": "stdout",
    "text": "1629739 William Howard\n",
    "output_type": "stream"
}, {
    "name": "stdout",
    "text": "1628989 Kevin Huerter\n",
    "output_type": "stream"
}, {
    "name": "stdout",
    "text": "1629631 De'Andre Hunter\n",
    "output_type": "stream"
}, {
    "name": "stdout",
    "text": "1628990 Chandler Hutchison\n",
    "output_type": "stream"
}, {
    "name": "stdout",
    "text": "201586 Serge Ibaka\n",
    "output_type": "stream"
}, {
    "name": "stdout",
    "text": "2738 Andre Iguodala\n",
    "output_type": "stream"
}, {
    "name": "stdout",
    "text": "101141 Ersan Ilyasova\n",
    "output_type": "stream"
}, {
    "name": "stdout",
    "text": "204060 Joe Ingles\n",
    "output_type": "stream"
}, {
    "name": "stdout",
    "text": "1627742 Brandon Ingram\n",
    "output_type": "stream"
}, {
    "name": "stdout",
    "text": "202681 Kyrie Irving\n",
    "output_type": "stream"
}, {
    "name": "stdout",
    "text": "1628371 Jonathan Isaac\n",
    "output_type": "stream"
}, {
    "name": "stdout",
    "text": "1628411 Wes Iwundu\n",
    "output_type": "stream"
}, {
    "name": "stdout",
    "text": "1628402 Frank Jackson\n",
    "output_type": "stream"
}, {
    "name": "stdout",
    "text": "1628367 Josh Jackson\n",
    "output_type": "stream"
}, {
    "name": "stdout",
    "text": "1628382 Justin Jackson\n",
    "output_type": "stream"
}, {
    "name": "stdout",
    "text": "202704 Reggie Jackson\n",
    "output_type": "stream"
}, {
    "name": "stdout",
    "text": "1628991 Jaren Jackson Jr.\n",
    "output_type": "stream"
}, {
    "name": "stdout",
    "text": "1629713 Justin James\n",
    "output_type": "stream"
}, {
    "name": "stdout",
    "text": "2544 LeBron James\n",
    "output_type": "stream"
}, {
    "name": "stdout",
    "text": "1629610 DaQuan Jeffries\n",
    "output_type": "stream"
}, {
    "name": "stdout",
    "text": "1629660 Ty Jerome\n",
    "output_type": "stream"
}, {
    "name": "stdout",
    "text": "1628993 Alize Johnson\n",
    "output_type": "stream"
}, {
    "name": "stdout",
    "text": "1629168 BJ Johnson\n",
    "output_type": "stream"
}, {
    "name": "stdout",
    "text": "1629661 Cameron Johnson\n",
    "output_type": "stream"
}, {
    "name": "stdout",
    "text": "201949 James Johnson\n",
    "output_type": "stream"
}, {
    "name": "stdout",
    "text": "1629640 Keldon Johnson\n",
    "output_type": "stream"
}, {
    "name": "stdout",
    "text": "1626169 Stanley Johnson\n",
    "output_type": "stream"
}, {
    "name": "stdout",
    "text": "204020 Tyler Johnson\n",
    "output_type": "stream"
}, {
    "name": "stdout",
    "text": "203999 Nikola Jokic\n",
    "output_type": "stream"
}, {
    "name": "stdout",
    "text": "1627745 Damian Jones\n",
    "output_type": "stream"
}, {
    "name": "stdout",
    "text": "1626145 Tyus Jones\n",
    "output_type": "stream"
}, {
    "name": "stdout",
    "text": "1627884 Derrick Jones Jr.\n",
    "output_type": "stream"
}, {
    "name": "stdout",
    "text": "201599 DeAndre Jordan\n",
    "output_type": "stream"
}, {
    "name": "stdout",
    "text": "202709 Cory Joseph\n",
    "output_type": "stream"
}, {
    "name": "stdout",
    "text": "1629662 Mfiondu Kabengele\n",
    "output_type": "stream"
}, {
    "name": "stdout",
    "text": "1626163 Frank Kaminsky\n",
    "output_type": "stream"
}, {
    "name": "stdout",
    "text": "202683 Enes Kanter\n",
    "output_type": "stream"
}, {
    "name": "stdout",
    "text": "1628379 Luke Kennard\n",
    "output_type": "stream"
}, {
    "name": "stdout",
    "text": "203077 Michael Kidd-Gilchrist\n",
    "output_type": "stream"
}, {
    "name": "stdout",
    "text": "1629663 Louis King\n",
    "output_type": "stream"
}, {
    "name": "stdout",
    "text": "1628467 Maxi Kleber\n",
    "output_type": "stream"
}, {
    "name": "stdout",
    "text": "202688 Brandon Knight\n",
    "output_type": "stream"
}, {
    "name": "stdout",
    "text": "1628995 Kevin Knox II\n",
    "output_type": "stream"
}, {
    "name": "stdout",
    "text": "1629723 John Konchar\n",
    "output_type": "stream"
}, {
    "name": "stdout",
    "text": "1627788 Furkan Korkmaz\n",
    "output_type": "stream"
}, {
    "name": "stdout",
    "text": "1628436 Luke Kornet\n",
    "output_type": "stream"
}, {
    "name": "stdout",
    "text": "2594 Kyle Korver\n",
    "output_type": "stream"
}, {
    "name": "stdout",
    "text": "1629066 Rodions Kurucs\n",
    "output_type": "stream"
}, {
    "name": "stdout",
    "text": "1628398 Kyle Kuzma\n",
    "output_type": "stream"
}, {
    "name": "stdout",
    "text": "203897 Zach LaVine\n",
    "output_type": "stream"
}, {
    "name": "stdout",
    "text": "1627746 Skal Labissiere\n",
    "output_type": "stream"
}, {
    "name": "stdout",
    "text": "203087 Jeremy Lamb\n",
    "output_type": "stream"
}, {
    "name": "stdout",
    "text": "1629641 Romeo Langford\n",
    "output_type": "stream"
}, {
    "name": "stdout",
    "text": "1629724 Vic Law\n",
    "output_type": "stream"
}, {
    "name": "stdout",
    "text": "1627774 Jake Layman\n",
    "output_type": "stream"
}, {
    "name": "stdout",
    "text": "1627747 Caris LeVert\n",
    "output_type": "stream"
}, {
    "name": "stdout",
    "text": "1628388 TJ Leaf\n",
    "output_type": "stream"
}, {
    "name": "stdout",
    "text": "1629665 Jalen Lecque\n",
    "output_type": "stream"
}, {
    "name": "stdout",
    "text": "201584 Courtney Lee\n",
    "output_type": "stream"
}, {
    "name": "stdout",
    "text": "1627814 Damion Lee\n",
    "output_type": "stream"
}, {
    "name": "stdout",
    "text": "203458 Alex Len\n",
    "output_type": "stream"
}, {
    "name": "stdout",
    "text": "202695 Kawhi Leonard\n",
    "output_type": "stream"
}, {
    "name": "stdout",
    "text": "203086 Meyers Leonard\n",
    "output_type": "stream"
}, {
    "name": "stdout",
    "text": "203081 Damian Lillard\n",
    "output_type": "stream"
}, {
    "name": "stdout",
    "text": "1629642 Nassir Little\n",
    "output_type": "stream"
}, {
    "name": "stdout",
    "text": "1626172 Kevon Looney\n",
    "output_type": "stream"
}, {
    "name": "stdout",
    "text": "201572 Brook Lopez\n",
    "output_type": "stream"
}, {
    "name": "stdout",
    "text": "201577 Robin Lopez\n",
    "output_type": "stream"
}, {
    "name": "stdout",
    "text": "201567 Kevin Love\n",
    "output_type": "stream"
}, {
    "name": "stdout",
    "text": "200768 Kyle Lowry\n",
    "output_type": "stream"
}, {
    "name": "stdout",
    "text": "1627789 Timothe Luwawu-Cabarrot\n",
    "output_type": "stream"
}, {
    "name": "stdout",
    "text": "1626168 Trey Lyles\n",
    "output_type": "stream"
}, {
    "name": "stdout",
    "text": "101133 Ian Mahinmi\n",
    "output_type": "stream"
}, {
    "name": "stdout",
    "text": "1627748 Thon Maker\n",
    "output_type": "stream"
}, {
    "name": "stdout",
    "text": "1629611 Terance Mann\n",
    "output_type": "stream"
}, {
    "name": "stdout",
    "text": "1626246 Boban Marjanovic\n",
    "output_type": "stream"
}, {
    "name": "stdout",
    "text": "1628374 Lauri Markkanen\n",
    "output_type": "stream"
}, {
    "name": "stdout",
    "text": "1628997 Caleb Martin\n",
    "output_type": "stream"
}, {
    "name": "stdout",
    "text": "1628998 Cody Martin\n",
    "output_type": "stream"
}, {
    "name": "stdout",
    "text": "1629725 Jeremiah Martin\n",
    "output_type": "stream"
}, {
    "name": "stdout",
    "text": "1629103 Kelan Martin\n",
    "output_type": "stream"
}, {
    "name": "stdout",
    "text": "1628412 Frank Mason\n",
    "output_type": "stream"
}, {
    "name": "stdout",
    "text": "1629726 Garrison Mathews\n",
    "output_type": "stream"
}, {
    "name": "stdout",
    "text": "202083 Wesley Matthews\n",
    "output_type": "stream"
}, {
    "name": "stdout",
    "text": "201601 Luc Mbah a Moute\n",
    "output_type": "stream"
}, {
    "name": "stdout",
    "text": "1627775 Patrick McCaw\n",
    "output_type": "stream"
}, {
    "name": "stdout",
    "text": "203468 CJ McCollum\n",
    "output_type": "stream"
}, {
    "name": "stdout",
    "text": "204456 T.J. McConnell\n",
    "output_type": "stream"
}, {
    "name": "stdout",
    "text": "1629667 Jalen McDaniels\n",
    "output_type": "stream"
}, {
    "name": "stdout",
    "text": "203926 Doug McDermott\n",
    "output_type": "stream"
}, {
    "name": "stdout",
    "text": "201580 JaVale McGee\n",
    "output_type": "stream"
}, {
    "name": "stdout",
    "text": "203585 Rodney McGruder\n",
    "output_type": "stream"
}, {
    "name": "stdout",
    "text": "1628035 Alfonzo McKinnie\n",
    "output_type": "stream"
}, {
    "name": "stdout",
    "text": "1629162 Jordan McLaughlin\n",
    "output_type": "stream"
}, {
    "name": "stdout",
    "text": "203463 Ben McLemore\n",
    "output_type": "stream"
}, {
    "name": "stdout",
    "text": "203895 Jordan McRae\n",
    "output_type": "stream"
}, {
    "name": "stdout",
    "text": "1629740 Nicolo Melli\n",
    "output_type": "stream"
}, {
    "name": "stdout",
    "text": "1629001 De'Anthony Melton\n",
    "output_type": "stream"
}, {
    "name": "stdout",
    "text": "1629002 Chimezie Metu\n",
    "output_type": "stream"
}, {
    "name": "stdout",
    "text": "203114 Khris Middleton\n",
    "output_type": "stream"
}, {
    "name": "stdout",
    "text": "203121 Darius Miller\n",
    "output_type": "stream"
}, {
    "name": "stdout",
    "text": "1626259 Malcolm Miller\n",
    "output_type": "stream"
}, {
    "name": "stdout",
    "text": "201988 Patty Mills\n",
    "output_type": "stream"
}, {
    "name": "stdout",
    "text": "200794 Paul Millsap\n",
    "output_type": "stream"
}, {
    "name": "stdout",
    "text": "1629003 Shake Milton\n",
    "output_type": "stream"
}, {
    "name": "stdout",
    "text": "1628378 Donovan Mitchell\n",
    "output_type": "stream"
}, {
    "name": "stdout",
    "text": "1628513 Naz Mitrou-Long\n",
    "output_type": "stream"
}, {
    "name": "stdout",
    "text": "1629690 Adam Mokoka\n",
    "output_type": "stream"
}, {
    "name": "stdout",
    "text": "1628370 Malik Monk\n",
    "output_type": "stream"
}, {
    "name": "stdout",
    "text": "1629760 Matt Mooney\n",
    "output_type": "stream"
}, {
    "name": "stdout",
    "text": "202734 E'Twaun Moore\n",
    "output_type": "stream"
}, {
    "name": "stdout",
    "text": "1629630 Ja Morant\n",
    "output_type": "stream"
}, {
    "name": "stdout",
    "text": "1629752 Juwan Morgan\n",
    "output_type": "stream"
}, {
    "name": "stdout",
    "text": "202693 Markieff Morris\n",
    "output_type": "stream"
}, {
    "name": "stdout",
    "text": "1628420 Monte Morris\n",
    "output_type": "stream"
}, {
    "name": "stdout",
    "text": "202694 Marcus Morris Sr.\n",
    "output_type": "stream"
}, {
    "name": "stdout",
    "text": "1628405 Johnathan Motley\n",
    "output_type": "stream"
}, {
    "name": "stdout",
    "text": "1626144 Emmanuel Mudiay\n",
    "output_type": "stream"
}, {
    "name": "stdout",
    "text": "1628539 Mychal Mulder\n",
    "output_type": "stream"
}, {
    "name": "stdout",
    "text": "1627749 Dejounte Murray\n",
    "output_type": "stream"
}, {
    "name": "stdout",
    "text": "1627750 Jamal Murray\n",
    "output_type": "stream"
}, {
    "name": "stdout",
    "text": "1629058 Dzanan Musa\n",
    "output_type": "stream"
}, {
    "name": "stdout",
    "text": "203488 Mike Muscala\n",
    "output_type": "stream"
}, {
    "name": "stdout",
    "text": "1629004 Svi Mykhailiuk\n",
    "output_type": "stream"
}, {
    "name": "stdout",
    "text": "1627846 Abdel Nader\n",
    "output_type": "stream"
}, {
    "name": "stdout",
    "text": "1626204 Larry Nance Jr.\n",
    "output_type": "stream"
}, {
    "name": "stdout",
    "text": "203894 Shabazz Napier\n",
    "output_type": "stream"
}, {
    "name": "stdout",
    "text": "203526 Raul Neto\n",
    "output_type": "stream"
}, {
    "name": "stdout",
    "text": "1627777 Georges Niang\n",
    "output_type": "stream"
}, {
    "name": "stdout",
    "text": "201149 Joakim Noah\n",
    "output_type": "stream"
}, {
    "name": "stdout",
    "text": "203457 Nerlens Noel\n",
    "output_type": "stream"
}, {
    "name": "stdout",
    "text": "1629669 Jaylen Nowell\n",
    "output_type": "stream"
}, {
    "name": "stdout",
    "text": "1628373 Frank Ntilikina\n",
    "output_type": "stream"
}, {
    "name": "stdout",
    "text": "1629134 Kendrick Nunn\n",
    "output_type": "stream"
}, {
    "name": "stdout",
    "text": "203994 Jusuf Nurkic\n",
    "output_type": "stream"
}, {
    "name": "stdout",
    "text": "1628021 David Nwaba\n",
    "output_type": "stream"
}, {
    "name": "stdout",
    "text": "1626220 Royce O'Neale\n",
    "output_type": "stream"
}, {
    "name": "stdout",
    "text": "203124 Kyle O'Quinn\n",
    "output_type": "stream"
}, {
    "name": "stdout",
    "text": "1628400 Semi Ojeleye\n",
    "output_type": "stream"
}, {
    "name": "stdout",
    "text": "1626143 Jahlil Okafor\n",
    "output_type": "stream"
}, {
    "name": "stdout",
    "text": "1629059 Elie Okobo\n",
    "output_type": "stream"
}, {
    "name": "stdout",
    "text": "1629006 Josh Okogie\n",
    "output_type": "stream"
}, {
    "name": "stdout",
    "text": "1629644 KZ Okpala\n",
    "output_type": "stream"
}, {
    "name": "stdout",
    "text": "203506 Victor Oladipo\n",
    "output_type": "stream"
}, {
    "name": "stdout",
    "text": "203482 Kelly Olynyk\n",
    "output_type": "stream"
}, {
    "name": "stdout",
    "text": "1629671 Miye Oni\n",
    "output_type": "stream"
}, {
    "name": "stdout",
    "text": "1626224 Cedi Osman\n",
    "output_type": "stream"
}, {
    "name": "stdout",
    "text": "1626162 Kelly Oubre Jr.\n",
    "output_type": "stream"
}, {
    "name": "stdout",
    "text": "1629745 Tariq Owens\n",
    "output_type": "stream"
}, {
    "name": "stdout",
    "text": "203953 Jabari Parker\n",
    "output_type": "stream"
}, {
    "name": "stdout",
    "text": "1629672 Eric Paschall\n",
    "output_type": "stream"
}, {
    "name": "stdout",
    "text": "1628394 Anzejs Pasecniks\n",
    "output_type": "stream"
}, {
    "name": "stdout",
    "text": "202335 Patrick Patterson\n",
    "output_type": "stream"
}, {
    "name": "stdout",
    "text": "1628383 Justin Patton\n",
    "output_type": "stream"
}, {
    "name": "stdout",
    "text": "101108 Chris Paul\n",
    "output_type": "stream"
}, {
    "name": "stdout",
    "text": "1626166 Cameron Payne\n",
    "output_type": "stream"
}, {
    "name": "stdout",
    "text": "203901 Elfrid Payton\n",
    "output_type": "stream"
}, {
    "name": "stdout",
    "text": "1627780 Gary Payton II\n",
    "output_type": "stream"
}, {
    "name": "stdout",
    "text": "203658 Norvel Pelle\n",
    "output_type": "stream"
}, {
    "name": "stdout",
    "text": "1629033 Theo Pinson\n",
    "output_type": "stream"
}, {
    "name": "stdout",
    "text": "203486 Mason Plumlee\n",
    "output_type": "stream"
}, {
    "name": "stdout",
    "text": "1627751 Jakob Poeltl\n",
    "output_type": "stream"
}, {
    "name": "stdout",
    "text": "1629738 Vincent Poirier\n",
    "output_type": "stream"
}, {
    "name": "stdout",
    "text": "1629673 Jordan Poole\n",
    "output_type": "stream"
}, {
    "name": "stdout",
    "text": "1629645 Kevin Porter Jr.\n",
    "output_type": "stream"
}, {
    "name": "stdout",
    "text": "1629008 Michael Porter Jr.\n",
    "output_type": "stream"
}, {
    "name": "stdout",
    "text": "203490 Otto Porter Jr.\n",
    "output_type": "stream"
}, {
    "name": "stdout",
    "text": "1626171 Bobby Portis\n",
    "output_type": "stream"
}, {
    "name": "stdout",
    "text": "204001 Kristaps Porzingis\n",
    "output_type": "stream"
}, {
    "name": "stdout",
    "text": "203939 Dwight Powell\n",
    "output_type": "stream"
}, {
    "name": "stdout",
    "text": "1626181 Norman Powell\n",
    "output_type": "stream"
}, {
    "name": "stdout",
    "text": "1627752 Taurean Prince\n",
    "output_type": "stream"
}, {
    "name": "stdout",
    "text": "203944 Julius Randle\n",
    "output_type": "stream"
}, {
    "name": "stdout",
    "text": "1629729 Josh Reaves\n",
    "output_type": "stream"
}, {
    "name": "stdout",
    "text": "1629629 Cam Reddish\n",
    "output_type": "stream"
}, {
    "name": "stdout",
    "text": "200755 JJ Redick\n",
    "output_type": "stream"
}, {
    "name": "stdout",
    "text": "1629675 Naz Reid\n",
    "output_type": "stream"
}, {
    "name": "stdout",
    "text": "1629244 Cameron Reynolds\n",
    "output_type": "stream"
}, {
    "name": "stdout",
    "text": "1626196 Josh Richardson\n",
    "output_type": "stream"
}, {
    "name": "stdout",
    "text": "203085 Austin Rivers\n",
    "output_type": "stream"
}, {
    "name": "stdout",
    "text": "203460 Andre Roberson\n",
    "output_type": "stream"
}, {
    "name": "stdout",
    "text": "1629130 Duncan Robinson\n",
    "output_type": "stream"
}, {
    "name": "stdout",
    "text": "1629010 Jerome Robinson\n",
    "output_type": "stream"
}, {
    "name": "stdout",
    "text": "1629011 Mitchell Robinson\n",
    "output_type": "stream"
}, {
    "name": "stdout",
    "text": "203922 Glenn Robinson III\n",
    "output_type": "stream"
}, {
    "name": "stdout",
    "text": "1629676 Isaiah Roby\n",
    "output_type": "stream"
}, {
    "name": "stdout",
    "text": "200765 Rajon Rondo\n",
    "output_type": "stream"
}, {
    "name": "stdout",
    "text": "201565 Derrick Rose\n",
    "output_type": "stream"
}, {
    "name": "stdout",
    "text": "203082 Terrence Ross\n",
    "output_type": "stream"
}, {
    "name": "stdout",
    "text": "1626179 Terry Rozier\n",
    "output_type": "stream"
}, {
    "name": "stdout",
    "text": "201937 Ricky Rubio\n",
    "output_type": "stream"
}, {
    "name": "stdout",
    "text": "1626156 D'Angelo Russell\n",
    "output_type": "stream"
}, {
    "name": "stdout",
    "text": "1627734 Domantas Sabonis\n",
    "output_type": "stream"
}, {
    "name": "stdout",
    "text": "1629677 Luka Samanic\n",
    "output_type": "stream"
}, {
    "name": "stdout",
    "text": "203960 JaKarr Sampson\n",
    "output_type": "stream"
}, {
    "name": "stdout",
    "text": "203967 Dario Saric\n",
    "output_type": "stream"
}, {
    "name": "stdout",
    "text": "203107 Tomas Satoransky\n",
    "output_type": "stream"
}, {
    "name": "stdout",
    "text": "1629678 Admiral Schofield\n",
    "output_type": "stream"
}, {
    "name": "stdout",
    "text": "203471 Dennis Schroder\n",
    "output_type": "stream"
}, {
    "name": "stdout",
    "text": "203118 Mike Scott\n",
    "output_type": "stream"
}, {
    "name": "stdout",
    "text": "200757 Thabo Sefolosha\n",
    "output_type": "stream"
}, {
    "name": "stdout",
    "text": "1629012 Collin Sexton\n",
    "output_type": "stream"
}, {
    "name": "stdout",
    "text": "1629013 Landry Shamet\n",
    "output_type": "stream"
}, {
    "name": "stdout",
    "text": "1629621 Marial Shayok\n",
    "output_type": "stream"
}, {
    "name": "stdout",
    "text": "1627783 Pascal Siakam\n",
    "output_type": "stream"
}, {
    "name": "stdout",
    "text": "1629735 Chris Silva\n",
    "output_type": "stream"
}, {
    "name": "stdout",
    "text": "1627732 Ben Simmons\n",
    "output_type": "stream"
}, {
    "name": "stdout",
    "text": "1628424 Kobi Simmons\n",
    "output_type": "stream"
}, {
    "name": "stdout",
    "text": "1629014 Anfernee Simons\n",
    "output_type": "stream"
}, {
    "name": "stdout",
    "text": "1629346 Alen Smailagic\n",
    "output_type": "stream"
}, {
    "name": "stdout",
    "text": "203935 Marcus Smart\n",
    "output_type": "stream"
}, {
    "name": "stdout",
    "text": "202397 Ish Smith\n",
    "output_type": "stream"
}, {
    "name": "stdout",
    "text": "2747 JR Smith\n",
    "output_type": "stream"
}, {
    "name": "stdout",
    "text": "1629015 Zhaire Smith\n",
    "output_type": "stream"
}, {
    "name": "stdout",
    "text": "1628372 Dennis Smith Jr.\n",
    "output_type": "stream"
}, {
    "name": "stdout",
    "text": "203503 Tony Snell\n",
    "output_type": "stream"
}, {
    "name": "stdout",
    "text": "1629034 Ray Spalding\n",
    "output_type": "stream"
}, {
    "name": "stdout",
    "text": "1629016 Omari Spellman\n",
    "output_type": "stream"
}, {
    "name": "stdout",
    "text": "1629622 Max Strus\n",
    "output_type": "stream"
}, {
    "name": "stdout",
    "text": "1628410 Edmond Sumner\n",
    "output_type": "stream"
}, {
    "name": "stdout",
    "text": "1628403 Caleb Swanigan\n",
    "output_type": "stream"
}, {
    "name": "stdout",
    "text": "1628369 Jayson Tatum\n",
    "output_type": "stream"
}, {
    "name": "stdout",
    "text": "201952 Jeff Teague\n",
    "output_type": "stream"
}, {
    "name": "stdout",
    "text": "202066 Garrett Temple\n",
    "output_type": "stream"
}, {
    "name": "stdout",
    "text": "1628464 Daniel Theis\n",
    "output_type": "stream"
}, {
    "name": "stdout",
    "text": "1629017 Khyri Thomas\n",
    "output_type": "stream"
}, {
    "name": "stdout",
    "text": "202498 Lance Thomas\n",
    "output_type": "stream"
}, {
    "name": "stdout",
    "text": "1629744 Matt Thomas\n",
    "output_type": "stream"
}, {
    "name": "stdout",
    "text": "202691 Klay Thompson\n",
    "output_type": "stream"
}, {
    "name": "stdout",
    "text": "202684 Tristan Thompson\n",
    "output_type": "stream"
}, {
    "name": "stdout",
    "text": "1628414 Sindarius Thornwell\n",
    "output_type": "stream"
}, {
    "name": "stdout",
    "text": "1629680 Matisse Thybulle\n",
    "output_type": "stream"
}, {
    "name": "stdout",
    "text": "201229 Anthony Tolliver\n",
    "output_type": "stream"
}, {
    "name": "stdout",
    "text": "1629308 Juan Toscano-Anderson\n",
    "output_type": "stream"
}, {
    "name": "stdout",
    "text": "1626157 Karl-Anthony Towns\n",
    "output_type": "stream"
}, {
    "name": "stdout",
    "text": "1629018 Gary Trent Jr.\n",
    "output_type": "stream"
}, {
    "name": "stdout",
    "text": "200782 P.J. Tucker\n",
    "output_type": "stream"
}, {
    "name": "stdout",
    "text": "1629730 Rayjon Tucker\n",
    "output_type": "stream"
}, {
    "name": "stdout",
    "text": "202323 Evan Turner\n",
    "output_type": "stream"
}, {
    "name": "stdout",
    "text": "1626167 Myles Turner\n",
    "output_type": "stream"
}, {
    "name": "stdout",
    "text": "1627784 Jarrod Uthoff\n",
    "output_type": "stream"
}, {
    "name": "stdout",
    "text": "202685 Jonas Valanciunas\n",
    "output_type": "stream"
}, {
    "name": "stdout",
    "text": "1627756 Denzel Valentine\n",
    "output_type": "stream"
}, {
    "name": "stdout",
    "text": "1627832 Fred VanVleet\n",
    "output_type": "stream"
}, {
    "name": "stdout",
    "text": "1629020 Jarred Vanderbilt\n",
    "output_type": "stream"
}, {
    "name": "stdout",
    "text": "1629216 Gabe Vincent\n",
    "output_type": "stream"
}, {
    "name": "stdout",
    "text": "203943 Noah Vonleh\n",
    "output_type": "stream"
}, {
    "name": "stdout",
    "text": "202696 Nikola Vucevic\n",
    "output_type": "stream"
}, {
    "name": "stdout",
    "text": "1629731 Dean Wade\n",
    "output_type": "stream"
}, {
    "name": "stdout",
    "text": "1629021 Moritz Wagner\n",
    "output_type": "stream"
}, {
    "name": "stdout",
    "text": "203079 Dion Waiters\n",
    "output_type": "stream"
}, {
    "name": "stdout",
    "text": "202689 Kemba Walker\n",
    "output_type": "stream"
}, {
    "name": "stdout",
    "text": "1629022 Lonnie Walker IV\n",
    "output_type": "stream"
}, {
    "name": "stdout",
    "text": "202322 John Wall\n",
    "output_type": "stream"
}, {
    "name": "stdout",
    "text": "202954 Brad Wanamaker\n",
    "output_type": "stream"
}, {
    "name": "stdout",
    "text": "203933 T.J. Warren\n",
    "output_type": "stream"
}, {
    "name": "stdout",
    "text": "1629023 P.J. Washington\n",
    "output_type": "stream"
}, {
    "name": "stdout",
    "text": "1629139 Yuta Watanabe\n",
    "output_type": "stream"
}, {
    "name": "stdout",
    "text": "1629682 Tremont Waters\n",
    "output_type": "stream"
}, {
    "name": "stdout",
    "text": "1628778 Paul Watson\n",
    "output_type": "stream"
}, {
    "name": "stdout",
    "text": "1629683 Quinndary Weatherspoon\n",
    "output_type": "stream"
}, {
    "name": "stdout",
    "text": "201566 Russell Westbrook\n",
    "output_type": "stream"
}, {
    "name": "stdout",
    "text": "1629632 Coby White\n",
    "output_type": "stream"
}, {
    "name": "stdout",
    "text": "1628401 Derrick White\n",
    "output_type": "stream"
}, {
    "name": "stdout",
    "text": "202355 Hassan Whiteside\n",
    "output_type": "stream"
}, {
    "name": "stdout",
    "text": "203952 Andrew Wiggins\n",
    "output_type": "stream"
}, {
    "name": "stdout",
    "text": "1629684 Grant Williams\n",
    "output_type": "stream"
}, {
    "name": "stdout",
    "text": "1629140 Johnathan Williams\n",
    "output_type": "stream"
}, {
    "name": "stdout",
    "text": "1629026 Kenrich Williams\n",
    "output_type": "stream"
}, {
    "name": "stdout",
    "text": "101150 Lou Williams\n",
    "output_type": "stream"
}, {
    "name": "stdout",
    "text": "101107 Marvin Williams\n",
    "output_type": "stream"
}, {
    "name": "stdout",
    "text": "1629057 Robert Williams III\n",
    "output_type": "stream"
}, {
    "name": "stdout",
    "text": "1628430 Nigel Williams-Goss\n",
    "output_type": "stream"
}, {
    "name": "stdout",
    "text": "1629627 Zion Williamson\n",
    "output_type": "stream"
}, {
    "name": "stdout",
    "text": "1628391 D.J. Wilson\n",
    "output_type": "stream"
}, {
    "name": "stdout",
    "text": "1626159 Justise Winslow\n",
    "output_type": "stream"
}, {
    "name": "stdout",
    "text": "1626174 Christian Wood\n",
    "output_type": "stream"
}, {
    "name": "stdout",
    "text": "1626153 Delon Wright\n",
    "output_type": "stream"
}, {
    "name": "stdout",
    "text": "1629625 Justin Wright-Foreman\n",
    "output_type": "stream"
}, {
    "name": "stdout",
    "text": "201152 Thaddeus Young\n",
    "output_type": "stream"
}, {
    "name": "stdout",
    "text": "1629027 Trae Young\n",
    "output_type": "stream"
}, {
    "name": "stdout",
    "text": "203469 Cody Zeller\n",
    "output_type": "stream"
}, {
    "name": "stdout",
    "text": "203092 Tyler Zeller\n",
    "output_type": "stream"
}, {
    "name": "stdout",
    "text": "1627790 Ante Zizic\n",
    "output_type": "stream"
}, {
    "name": "stdout",
    "text": "1627826 Ivica Zubac\n",
    "output_type": "stream"
}
],
            "execution_count": null
        }
    ]
}