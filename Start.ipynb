{
    "metadata": {
        "kernelspec": {
            "name": "python3",
            "display_name": "Python 3"
        },
        "language_info": {
            "name": "python",
            "version": "3.6.6",
            "mimetype": "text/x-python",
            "codemirror_mode": {
                "name": "ipython",
                "version": 3
            },
            "pygments_lexer": "ipython3",
            "nbconvert_exporter": "python",
            "file_extension": ".py"
        }
    },
    "nbformat_minor": 2,
    "nbformat": 4,
    "cells": [
        {
            "cell_type": "code",
            "source": [
                "import pandas as pd\n",
                "\n",
                "from nba_api.stats.static import players\n",
                "from nba_api.stats.library.parameters import SeasonAll\n",
                "\n",
                "\n",
                "from nba_api.stats.endpoints import playercareerstats, commonallplayers\n",
                "\n",
                ""
            ],
            "metadata": {
                "azdata_cell_guid": "8d78e0e1-1abd-4092-940b-cfec29baf37b"
            },
            "outputs": [],
            "execution_count": null
        },
        {
            "cell_type": "markdown",
            "source": [
                "## Notes\n",
                "\n",
                "```\n",
                "# NBA League\n",
                "NBA → LeagueId = 00\n",
                "\n",
                "# Current season\n",
                "SeasonAll.current_season\n",
                "```"
            ],
            "metadata": {
                "azdata_cell_guid": "897d40df-9cf9-454c-bc1c-8b306582ebf2"
            }
        },
        {
            "cell_type": "code",
            "source": [
                "\n",
                "# ~~~ DEMO ~~~\n",
                "# Lebron\n",
                "career = playercareerstats.PlayerCareerStats(player_id='2544')\n",
                "career.get_data_frames()[0]\n",
                "\n",
                "# print(career.get_data_frames())\n",
                "# print(career.get_response())\n",
                "\n",
                "nba_teams = teams.get_teams()\n",
                "\n",
                "# Select the dictionary for the Celtics, which contains their team ID\n",
                "celtics = [team for team in nba_teams if team['abbreviation'] == 'BOS'][0]\n",
                "celtics_id = celtics['id']"
            ],
            "metadata": {
                "azdata_cell_guid": "addef27e-5287-42c5-9e83-efbdc1141e63",
                "tags": []
            },
            "outputs": [],
            "execution_count": 66
        },
        {
            "cell_type": "code",
            "source": [
                "# All 2020 players\n",
                "# print(SeasonAll.current_season)  # current season\n",
                "\n",
                "all_players = commonallplayers.CommonAllPlayers(is_only_current_season=1, league_id='00', season=SeasonAll.current_season)\n",
                "players = all_players.get_data_frames()[0]\n",
                "\n",
                "# ~~~ DEMO ~~~ \n",
                "# Atlanta Hawks Player List\n",
                "hawks = players[players.TEAM_CITY == 'Atlanta']\n",
                "# print(hawks.count())\n",
                "# print(hawks)\n",
                "\n",
                "# All players Data Frame\n",
                "all_players = players[players.GAMES_PLAYED_FLAG == 'N']\n",
                "\n",
                "print(all_players.head())"
            ],
            "metadata": {
                "azdata_cell_guid": "e8016344-f195-4df8-9ee4-e785583aa136",
                "tags": []
            },
            "outputs": [
                {
                    "name": "stdout",
                    "text": "     PERSON_ID DISPLAY_LAST_COMMA_FIRST DISPLAY_FIRST_LAST  ROSTERSTATUS  \\\n386    1629007           Porter, Jontay      Jontay Porter             1   \n498    1629685           Windler, Dylan      Dylan Windler             1   \n501    1629624            Wooten, Kenny       Kenny Wooten             1   \n\n    FROM_YEAR TO_YEAR     PLAYERCODE     TEAM_ID  TEAM_CITY  TEAM_NAME  \\\n386      2019    2020  jontay_porter  1610612763    Memphis  Grizzlies   \n498      2019    2020  dylan_windler  1610612739  Cleveland  Cavaliers   \n501      2019    2020   kenny_wooten  1610612752   New York     Knicks   \n\n    TEAM_ABBREVIATION  TEAM_CODE GAMES_PLAYED_FLAG OTHERLEAGUE_EXPERIENCE_CH  \n386               MEM  grizzlies                 N                        00  \n498               CLE  cavaliers                 N                        01  \n501               NYK     knicks                 N                        01  \n",
                    "output_type": "stream"
                }
            ],
            "execution_count": 74
        },
        {
            "cell_type": "code",
            "source": [
                ""
            ],
            "metadata": {
                "azdata_cell_guid": "de0c5f3e-dbec-406d-b4c7-9625ff563a36"
            },
            "outputs": [],
            "execution_count": null
        }
    ]
}